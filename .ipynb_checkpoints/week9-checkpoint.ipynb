{
 "cells": [
  {
   "cell_type": "markdown",
   "metadata": {},
   "source": [
    "# 10.009 Week 9\n",
    "## Cohort Problems \n",
    "### Problem 1"
   ]
  },
  {
   "cell_type": "code",
   "execution_count": 33,
   "metadata": {},
   "outputs": [],
   "source": [
    "from libdw import sm\n",
    "class CM(sm.SM):\n",
    "    start_state = 0\n",
    "    \n",
    "    def get_next_values(self,state,inp):\n",
    "        change = 0\n",
    "        coke = '--'\n",
    "        money = 0\n",
    "        if state == 0:\n",
    "            if inp == 50:\n",
    "                state = 1\n",
    "                money = 50\n",
    "            elif inp == 100:\n",
    "                coke = 'coke'\n",
    "            else:\n",
    "                change = inp\n",
    "        elif state == 1:\n",
    "            if inp == 50:\n",
    "                state = 0\n",
    "                coke = 'coke'\n",
    "            elif inp == 100:\n",
    "                state = 0\n",
    "                coke = 'coke'\n",
    "                change = 50\n",
    "            else:\n",
    "                money = 50\n",
    "                change = inp\n",
    "        return (state,(money,coke,change))"
   ]
  },
  {
   "cell_type": "markdown",
   "metadata": {},
   "source": [
    "### Problem 2"
   ]
  },
  {
   "cell_type": "code",
   "execution_count": 34,
   "metadata": {},
   "outputs": [],
   "source": [
    "class SimpleAccount(sm.SM):\n",
    "    def __init__(self,inp):\n",
    "        self.start_state = inp \n",
    "    \n",
    "    def get_next_values(self,state,inp):\n",
    "        if state < 100 and inp < 0:\n",
    "            state += inp - 5\n",
    "        else:\n",
    "            state += inp\n",
    "            \n",
    "        return(state,state)"
   ]
  },
  {
   "cell_type": "markdown",
   "metadata": {},
   "source": [
    "## Homework Problems\n",
    "### Problem 1"
   ]
  },
  {
   "cell_type": "code",
   "execution_count": 58,
   "metadata": {},
   "outputs": [],
   "source": [
    "class CommentsSM(sm.SM):\n",
    "    def get_next_values(self,state,inp):\n",
    "        if state != None:\n",
    "            if inp == '\\n':\n",
    "                return(None,None)\n",
    "            else:\n",
    "                return (inp,inp)\n",
    "        else:\n",
    "            if inp == '#':\n",
    "                return (inp,inp)\n",
    "            else:\n",
    "                return (None,None)\n",
    "                "
   ]
  },
  {
   "cell_type": "markdown",
   "metadata": {},
   "source": [
    "### Problem 2"
   ]
  },
  {
   "cell_type": "code",
   "execution_count": 78,
   "metadata": {},
   "outputs": [],
   "source": [
    "class FirstWordSM(sm.SM):\n",
    "    start_state = 'Newline'\n",
    "    def get_next_values(self,state,inp):\n",
    "        if state == 'Word':\n",
    "            if inp == ' ':\n",
    "                return (None,None)\n",
    "            else:\n",
    "                return ('Word',inp)\n",
    "        elif state == 'Newline':\n",
    "            if inp == ' ' or inp =='\\n':\n",
    "                return ('Newline',None)\n",
    "            else:\n",
    "                return ('Word',inp)\n",
    "        else:\n",
    "            if inp == '\\n':\n",
    "                return ('Newline',None)\n",
    "            else:\n",
    "                return (None,None)"
   ]
  },
  {
   "cell_type": "code",
   "execution_count": null,
   "metadata": {},
   "outputs": [],
   "source": []
  }
 ],
 "metadata": {
  "kernelspec": {
   "display_name": "Python 3",
   "language": "python",
   "name": "python3"
  },
  "language_info": {
   "codemirror_mode": {
    "name": "ipython",
    "version": 3
   },
   "file_extension": ".py",
   "mimetype": "text/x-python",
   "name": "python",
   "nbconvert_exporter": "python",
   "pygments_lexer": "ipython3",
   "version": "3.6.9"
  }
 },
 "nbformat": 4,
 "nbformat_minor": 4
}
