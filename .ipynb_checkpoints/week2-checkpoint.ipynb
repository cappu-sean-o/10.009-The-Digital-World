{
 "cells": [
  {
   "cell_type": "markdown",
   "metadata": {},
   "source": [
    "# Week 2"
   ]
  },
  {
   "cell_type": "markdown",
   "metadata": {},
   "source": [
    "## Problem 1"
   ]
  },
  {
   "cell_type": "code",
   "execution_count": 11,
   "metadata": {},
   "outputs": [
    {
     "name": "stdout",
     "output_type": "stream",
     "text": [
      "(-440.5, -93.1)\n",
      "(0.0, 5.0)\n",
      "(-122.62, -49.05)\n"
     ]
    }
   ],
   "source": [
    "def position_velocity(v0,t):\n",
    "    g = 9.81\n",
    "    y = round(v0*t - 0.5*g*t**2,2)\n",
    "    yprime = round(v0 - g*t,2)\n",
    "    return((y,yprime))\n",
    "\n",
    "print(position_velocity(5.0,10.0))\n",
    "print(position_velocity(5.0,0.0))\n",
    "print(position_velocity(0.0,5.0))"
   ]
  },
  {
   "cell_type": "markdown",
   "metadata": {},
   "source": [
    "## Problem 2"
   ]
  },
  {
   "cell_type": "code",
   "execution_count": 20,
   "metadata": {},
   "outputs": [
    {
     "name": "stdin",
     "output_type": "stream",
     "text": [
      "What is your weight? (In kilograms) 95.5\n",
      "What is your height? (In m or cm) 180\n"
     ]
    },
    {
     "name": "stdout",
     "output_type": "stream",
     "text": [
      "Your BMI is 29.5\n"
     ]
    }
   ],
   "source": [
    "def bmi(weight,height):\n",
    "    if height > 10 :\n",
    "        hgt = height/100\n",
    "    else:\n",
    "        hgt = height\n",
    "    index = round(weight/(hgt**2),1)\n",
    "    return(index)\n",
    "\n",
    "w = float(input('What is your weight? (In kilograms)'))\n",
    "h = float(input('What is your height? (In m or cm)'))\n",
    "print('Your BMI is',bmi(w,h))"
   ]
  },
  {
   "cell_type": "markdown",
   "metadata": {},
   "source": [
    "## Problem 3"
   ]
  },
  {
   "cell_type": "code",
   "execution_count": null,
   "metadata": {},
   "outputs": [],
   "source": []
  }
 ],
 "metadata": {
  "kernelspec": {
   "display_name": "Python 3",
   "language": "python",
   "name": "python3"
  },
  "language_info": {
   "codemirror_mode": {
    "name": "ipython",
    "version": 3
   },
   "file_extension": ".py",
   "mimetype": "text/x-python",
   "name": "python",
   "nbconvert_exporter": "python",
   "pygments_lexer": "ipython3",
   "version": "3.6.9"
  }
 },
 "nbformat": 4,
 "nbformat_minor": 4
}
