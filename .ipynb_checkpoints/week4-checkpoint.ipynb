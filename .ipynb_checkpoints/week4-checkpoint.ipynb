{
 "cells": [
  {
   "cell_type": "markdown",
   "metadata": {},
   "source": [
    "# 10.009 Week 4"
   ]
  },
  {
   "cell_type": "markdown",
   "metadata": {},
   "source": [
    "## Problem Sets"
   ]
  },
  {
   "cell_type": "markdown",
   "metadata": {},
   "source": [
    "### Problem 2"
   ]
  },
  {
   "cell_type": "code",
   "execution_count": 12,
   "metadata": {},
   "outputs": [
    {
     "name": "stdout",
     "output_type": "stream",
     "text": [
      "608.81\n"
     ]
    }
   ],
   "source": [
    "def compound_value_months(savings,interest,months):\n",
    "    value = 0\n",
    "    for n in range(months):\n",
    "        value = (value + savings)*(1+(interest/12))\n",
    "    return round(value,2)\n",
    "print(compound_value_months(100,0.05,6))\n",
    "        "
   ]
  },
  {
   "cell_type": "markdown",
   "metadata": {},
   "source": [
    "### Problem 3"
   ]
  },
  {
   "cell_type": "code",
   "execution_count": 18,
   "metadata": {},
   "outputs": [
    {
     "data": {
      "text/plain": [
       "([3.5, 6.0, 3.0], 4.25)"
      ]
     },
     "execution_count": 18,
     "metadata": {},
     "output_type": "execute_result"
    }
   ],
   "source": [
    "def find_average(l):\n",
    "    sum_l=[]\n",
    "    sum_ave = 0.0\n",
    "    sum_div = 0\n",
    "    for i in range(len(l)):\n",
    "        sum_l.append(0.0)\n",
    "        for j in range(len(l[i])):\n",
    "            sum_l[i] += l[i][j]\n",
    "            sum_ave += l[i][j]\n",
    "        sum_l[i] /= len(l[i])\n",
    "        sum_div += len(l[i])\n",
    "    sum_ave /= sum_div\n",
    "    return(sum_l,sum_ave)\n",
    "    \n",
    "find_average([[3,4],[5,6,7],[-1,2,8]])\n",
    "            \n",
    "        "
   ]
  },
  {
   "cell_type": "markdown",
   "metadata": {},
   "source": [
    "### Problem 4"
   ]
  },
  {
   "cell_type": "code",
   "execution_count": null,
   "metadata": {},
   "outputs": [],
   "source": []
  }
 ],
 "metadata": {
  "kernelspec": {
   "display_name": "Python 3",
   "language": "python",
   "name": "python3"
  },
  "language_info": {
   "codemirror_mode": {
    "name": "ipython",
    "version": 3
   },
   "file_extension": ".py",
   "mimetype": "text/x-python",
   "name": "python",
   "nbconvert_exporter": "python",
   "pygments_lexer": "ipython3",
   "version": "3.6.9"
  }
 },
 "nbformat": 4,
 "nbformat_minor": 4
}
