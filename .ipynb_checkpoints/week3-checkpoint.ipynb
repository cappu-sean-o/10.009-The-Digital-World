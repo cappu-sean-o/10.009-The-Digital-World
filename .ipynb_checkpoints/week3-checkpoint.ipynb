{
 "cells": [
  {
   "cell_type": "markdown",
   "metadata": {},
   "source": [
    "# 10.009 Week 3"
   ]
  },
  {
   "cell_type": "code",
   "execution_count": 7,
   "metadata": {},
   "outputs": [
    {
     "name": "stdout",
     "output_type": "stream",
     "text": [
      "120\n"
     ]
    }
   ],
   "source": [
    "def factorial(n):\n",
    "    x=1\n",
    "    i=1\n",
    "\n",
    "    while i <= n:\n",
    "        x *= i\n",
    "        i += 1\n",
    "    \n",
    "    return x\n",
    "print(factorial(5))"
   ]
  },
  {
   "cell_type": "markdown",
   "metadata": {},
   "source": [
    "## Problem Sets"
   ]
  },
  {
   "cell_type": "markdown",
   "metadata": {},
   "source": [
    "### Problem 1"
   ]
  },
  {
   "cell_type": "code",
   "execution_count": 10,
   "metadata": {},
   "outputs": [
    {
     "name": "stdout",
     "output_type": "stream",
     "text": [
      "55.0\n",
      "100.0\n"
     ]
    }
   ],
   "source": [
    "def list_sum(a_list):\n",
    "    n = 0.0\n",
    "    i = 0\n",
    "    while i < len(a_list):\n",
    "        n += a_list[i]\n",
    "        i += 1\n",
    "    \n",
    "    return n\n",
    "\n",
    "print(list_sum([1,2,3,4,5,6,7,8,9,10]))\n",
    "print(list_sum([1,3,5,7,9,11,13,15,17,19]))"
   ]
  },
  {
   "cell_type": "markdown",
   "metadata": {},
   "source": [
    "### Problem 2"
   ]
  },
  {
   "cell_type": "code",
   "execution_count": 2,
   "metadata": {},
   "outputs": [
    {
     "name": "stdout",
     "output_type": "stream",
     "text": [
      "(1, 6)\n"
     ]
    }
   ],
   "source": [
    "def minmax_in_list(ls):\n",
    "    i = 0\n",
    "    min_ls = ls[0]\n",
    "    max_ls = ls[0]\n",
    "    while i < len(ls):\n",
    "        if ls[i] < min_ls:\n",
    "            min_ls = ls[i]\n",
    "        if ls[i] > max_ls:\n",
    "            max_ls = ls[i]\n",
    "        i += 1\n",
    "    return(min_ls,max_ls)\n",
    "\n",
    "print(minmax_in_list([1,2,3,4,5,6]))"
   ]
  },
  {
   "cell_type": "markdown",
   "metadata": {},
   "source": [
    "### Problem 3"
   ]
  },
  {
   "cell_type": "code",
   "execution_count": 2,
   "metadata": {},
   "outputs": [
    {
     "name": "stdout",
     "output_type": "stream",
     "text": [
      "False\n"
     ]
    }
   ],
   "source": [
    "def is_palindrome(number):\n",
    "    ls = list(str(number))\n",
    "    i = 0\n",
    "    l = len(ls) - 1\n",
    "    while i < len(ls):\n",
    "        if int(ls[i]) != int(ls[(l-i)]):\n",
    "            return False\n",
    "        i += 1\n",
    "    return True\n",
    "print(is_palindrome(12325))"
   ]
  },
  {
   "cell_type": "markdown",
   "metadata": {},
   "source": [
    "## Homework"
   ]
  },
  {
   "cell_type": "markdown",
   "metadata": {},
   "source": [
    "### Question 1"
   ]
  },
  {
   "cell_type": "code",
   "execution_count": 8,
   "metadata": {},
   "outputs": [
    {
     "name": "stdout",
     "output_type": "stream",
     "text": [
      "37.8\n"
     ]
    }
   ],
   "source": [
    "def fahrenheit_to_celsius (temp_f):\n",
    "    temp_c = round((temp_f - 32)*(5/9),1)\n",
    "    return temp_c\n",
    "\n",
    "def celsius_to_fahrenheit(temp_c):\n",
    "    temp_f = round((temp_c*(9/5))+32,1)\n",
    "    return temp_f\n",
    "\n",
    "def temp_convert(unit,value):\n",
    "    if unit == \"C\":\n",
    "        ans = fahrenheit_to_celsius(value)\n",
    "        return ans\n",
    "    elif unit == \"F\":\n",
    "        ans = celsius_to_fahrenheit(value)\n",
    "        return ans\n",
    "    else:\n",
    "        return None\n",
    "    \n",
    "print(temp_convert(\"C\",100))"
   ]
  },
  {
   "cell_type": "markdown",
   "metadata": {},
   "source": [
    "### Question 2"
   ]
  },
  {
   "cell_type": "code",
   "execution_count": 1,
   "metadata": {},
   "outputs": [
    {
     "name": "stdout",
     "output_type": "stream",
     "text": [
      " get_even_list ([1 ,2 ,3 ,4 ,5]) \n",
      "[2, 4]\n"
     ]
    }
   ],
   "source": [
    "def get_even_list (lst):\n",
    "    i = 0\n",
    "    while i < len(lst):\n",
    "        if lst[i] % 2 == 0:\n",
    "            i += 1\n",
    "        else:\n",
    "            del lst[i]\n",
    "            i = 0\n",
    "    return lst\n",
    "\n",
    "print (\" get_even_list ([1 ,2 ,3 ,4 ,5]) \")\n",
    "ans = get_even_list ([1 ,2 ,3 ,4 ,5])\n",
    "print (ans)"
   ]
  },
  {
   "cell_type": "markdown",
   "metadata": {},
   "source": [
    "### Question 3"
   ]
  },
  {
   "cell_type": "code",
   "execution_count": null,
   "metadata": {},
   "outputs": [],
   "source": [
    "def is_prime(n):\n",
    "    if n == 2 or n == 5 :\n",
    "        return True\n",
    "    elif n % 2 == 0 or n % 5 == 0 :\n",
    "        return False\n",
    "    else:\n",
    "        prm = [3,7,11,13,17,19,23,29,31,37,41,43,47,53,59,61,67,71,73,79,83,89,97]\n",
    "        i = 0\n",
    "        if n > 97**2:\n",
    "            return None\n",
    "        while i < 23 :\n",
    "            if prm[i] == n:\n",
    "                return True\n",
    "            elif n % prm[i] == 0 :\n",
    "                return False\n",
    "            else:\n",
    "                i += 1\n",
    "        return True"
   ]
  },
  {
   "cell_type": "markdown",
   "metadata": {},
   "source": [
    "### Question 4"
   ]
  },
  {
   "cell_type": "code",
   "execution_count": 17,
   "metadata": {},
   "outputs": [
    {
     "name": "stdout",
     "output_type": "stream",
     "text": [
      "Output : 1\n"
     ]
    }
   ],
   "source": [
    "from math import exp \n",
    "\n",
    "def approx_ode(h,t0,y0,tn):\n",
    "    new = y0\n",
    "    old = y0\n",
    "    t = t0\n",
    "    for _ in range(int(tn/h)):\n",
    "        new = old + h * (3 + exp(-t) - (0.5 * old))\n",
    "        old = new\n",
    "        t += h\n",
    "    return round(new,3)\n",
    "ans = approx_ode (0.1,0,1,0)\n",
    "print ('Output :',ans)"
   ]
  },
  {
   "cell_type": "markdown",
   "metadata": {},
   "source": [
    "# Problem Set Part 2"
   ]
  },
  {
   "cell_type": "markdown",
   "metadata": {},
   "source": [
    "## Homework"
   ]
  },
  {
   "cell_type": "code",
   "execution_count": null,
   "metadata": {},
   "outputs": [],
   "source": []
  }
 ],
 "metadata": {
  "kernelspec": {
   "display_name": "Python 3",
   "language": "python",
   "name": "python3"
  },
  "language_info": {
   "codemirror_mode": {
    "name": "ipython",
    "version": 3
   },
   "file_extension": ".py",
   "mimetype": "text/x-python",
   "name": "python",
   "nbconvert_exporter": "python",
   "pygments_lexer": "ipython3",
   "version": "3.6.9"
  }
 },
 "nbformat": 4,
 "nbformat_minor": 4
}
