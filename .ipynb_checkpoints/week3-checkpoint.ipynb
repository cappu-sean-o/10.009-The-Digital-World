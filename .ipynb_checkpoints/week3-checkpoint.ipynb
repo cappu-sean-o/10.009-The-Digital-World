{
 "cells": [
  {
   "cell_type": "markdown",
   "metadata": {},
   "source": [
    "# 10.009 Week 3"
   ]
  },
  {
   "cell_type": "code",
   "execution_count": 7,
   "metadata": {},
   "outputs": [
    {
     "name": "stdout",
     "output_type": "stream",
     "text": [
      "120\n"
     ]
    }
   ],
   "source": [
    "def factorial(n):\n",
    "    x=1\n",
    "    i=1\n",
    "\n",
    "    while i <= n:\n",
    "        x *= i\n",
    "        i += 1\n",
    "    \n",
    "    return x\n",
    "print(factorial(5))"
   ]
  },
  {
   "cell_type": "markdown",
   "metadata": {},
   "source": [
    "## Problem Sets"
   ]
  },
  {
   "cell_type": "markdown",
   "metadata": {},
   "source": [
    "### Problem 1"
   ]
  },
  {
   "cell_type": "code",
   "execution_count": 10,
   "metadata": {},
   "outputs": [
    {
     "name": "stdout",
     "output_type": "stream",
     "text": [
      "55.0\n",
      "100.0\n"
     ]
    }
   ],
   "source": [
    "def list_sum(a_list):\n",
    "    n = 0.0\n",
    "    i = 0\n",
    "    while i < len(a_list):\n",
    "        n += a_list[i]\n",
    "        i += 1\n",
    "    \n",
    "    return n\n",
    "\n",
    "print(list_sum([1,2,3,4,5,6,7,8,9,10]))\n",
    "print(list_sum([1,3,5,7,9,11,13,15,17,19]))"
   ]
  },
  {
   "cell_type": "markdown",
   "metadata": {},
   "source": [
    "### Problem 2"
   ]
  },
  {
   "cell_type": "code",
   "execution_count": 2,
   "metadata": {},
   "outputs": [
    {
     "name": "stdout",
     "output_type": "stream",
     "text": [
      "(1, 6)\n"
     ]
    }
   ],
   "source": [
    "def minmax_in_list(ls):\n",
    "    i = 0\n",
    "    min_ls = ls[0]\n",
    "    max_ls = ls[0]\n",
    "    while i < len(ls):\n",
    "        if ls[i] < min_ls:\n",
    "            min_ls = ls[i]\n",
    "        if ls[i] > max_ls:\n",
    "            max_ls = ls[i]\n",
    "        i += 1\n",
    "    return(min_ls,max_ls)\n",
    "\n",
    "print(minmax_in_list([1,2,3,4,5,6]))"
   ]
  },
  {
   "cell_type": "markdown",
   "metadata": {},
   "source": [
    "### Problem 3"
   ]
  },
  {
   "cell_type": "code",
   "execution_count": 2,
   "metadata": {},
   "outputs": [
    {
     "name": "stdout",
     "output_type": "stream",
     "text": [
      "False\n"
     ]
    }
   ],
   "source": [
    "def is_palindrome(number):\n",
    "    ls = list(str(number))\n",
    "    i = 0\n",
    "    l = len(ls) - 1\n",
    "    while i < len(ls):\n",
    "        if int(ls[i]) != int(ls[(l-i)]):\n",
    "            return False\n",
    "        i += 1\n",
    "    return True\n",
    "print(is_palindrome(12325))"
   ]
  },
  {
   "cell_type": "markdown",
   "metadata": {},
   "source": [
    "## Problem Set Part 2"
   ]
  },
  {
   "cell_type": "code",
   "execution_count": null,
   "metadata": {},
   "outputs": [],
   "source": []
  },
  {
   "cell_type": "markdown",
   "metadata": {},
   "source": [
    "## Homework"
   ]
  },
  {
   "cell_type": "markdown",
   "metadata": {},
   "source": [
    "### Question 1"
   ]
  },
  {
   "cell_type": "code",
   "execution_count": 8,
   "metadata": {},
   "outputs": [
    {
     "name": "stdout",
     "output_type": "stream",
     "text": [
      "37.8\n"
     ]
    }
   ],
   "source": [
    "def fahrenheit_to_celsius (temp_f):\n",
    "    temp_c = round((temp_f - 32)*(5/9),1)\n",
    "    return temp_c\n",
    "\n",
    "def celsius_to_fahrenheit(temp_c):\n",
    "    temp_f = round((temp_c*(9/5))+32,1)\n",
    "    return temp_f\n",
    "\n",
    "def temp_convert(unit,value):\n",
    "    if unit == \"C\":\n",
    "        ans = fahrenheit_to_celsius(value)\n",
    "        return ans\n",
    "    elif unit == \"F\":\n",
    "        ans = celsius_to_fahrenheit(value)\n",
    "        return ans\n",
    "    else:\n",
    "        return None\n",
    "    \n",
    "print(temp_convert(\"C\",100))"
   ]
  },
  {
   "cell_type": "code",
   "execution_count": null,
   "metadata": {},
   "outputs": [],
   "source": []
  }
 ],
 "metadata": {
  "kernelspec": {
   "display_name": "Python 3",
   "language": "python",
   "name": "python3"
  },
  "language_info": {
   "codemirror_mode": {
    "name": "ipython",
    "version": 3
   },
   "file_extension": ".py",
   "mimetype": "text/x-python",
   "name": "python",
   "nbconvert_exporter": "python",
   "pygments_lexer": "ipython3",
   "version": "3.6.9"
  }
 },
 "nbformat": 4,
 "nbformat_minor": 4
}
