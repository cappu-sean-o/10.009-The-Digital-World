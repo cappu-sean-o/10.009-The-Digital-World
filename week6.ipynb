{
 "cells": [
  {
   "cell_type": "markdown",
   "metadata": {},
   "source": [
    "# 10.009 Week 6"
   ]
  },
  {
   "cell_type": "markdown",
   "metadata": {},
   "source": [
    "## Cohort Session"
   ]
  },
  {
   "cell_type": "markdown",
   "metadata": {},
   "source": [
    "### Problem 1"
   ]
  },
  {
   "cell_type": "code",
   "execution_count": 3,
   "metadata": {},
   "outputs": [],
   "source": [
    "def reverse(someword):\n",
    "    if type(someword) == str:\n",
    "        reverse_word =''\n",
    "        for i in someword:\n",
    "            reverse_word = i + reverse_word\n",
    "        return reverse_word\n",
    "    else:\n",
    "        return None"
   ]
  },
  {
   "cell_type": "markdown",
   "metadata": {},
   "source": [
    "### Problem 2"
   ]
  },
  {
   "cell_type": "code",
   "execution_count": 15,
   "metadata": {},
   "outputs": [
    {
     "name": "stdout",
     "output_type": "stream",
     "text": [
      "False\n"
     ]
    }
   ],
   "source": [
    "def check_password(password):\n",
    "    if len(password) < 8:\n",
    "        print('failed test 1')\n",
    "        return False\n",
    "    no_of_nums = 0\n",
    "    for i in password:\n",
    "        if i.isdigit() == False:\n",
    "            if i.isalpha() == False:\n",
    "                return False\n",
    "        elif i.isdigit() == True:\n",
    "            no_of_nums += 1\n",
    "    if no_of_nums < 2:\n",
    "        return False\n",
    "    return True"
   ]
  },
  {
   "cell_type": "markdown",
   "metadata": {},
   "source": [
    "### Problem 3"
   ]
  },
  {
   "cell_type": "code",
   "execution_count": 57,
   "metadata": {},
   "outputs": [],
   "source": [
    "def longest_common_prefix(str1,str2):\n",
    "    common_prefix = ''\n",
    "    length_shortest_word = 0\n",
    "    if len(str1) >= len(str2):\n",
    "        length_shortest_word = len(str2)\n",
    "        shortest_word = str2\n",
    "    else:\n",
    "        length_shortest_word = len(str1)\n",
    "        shortest_word = str1\n",
    "    for i in range(length_shortest_word):\n",
    "        if str1[i] != str2[i]:\n",
    "            return str1[:i]\n",
    "    return shortest_word"
   ]
  },
  {
   "cell_type": "markdown",
   "metadata": {},
   "source": [
    "### Problem 4"
   ]
  },
  {
   "cell_type": "code",
   "execution_count": 58,
   "metadata": {},
   "outputs": [
    {
     "name": "stdout",
     "output_type": "stream",
     "text": [
      "max:(-5.000000,-283.000000)\n",
      "min:(-1.060606,-0.184796)\n"
     ]
    }
   ],
   "source": [
    "class Coordinate:\n",
    "    x = 0\n",
    "    y = 0\n",
    "\n",
    "def get_maxmin_mag(f):\n",
    "    lst = f.readlines()\n",
    "    lst_parsed = []\n",
    "    for i in range(len(lst)):\n",
    "        mag = {'x':0,'y':0,'magnitude':0}\n",
    "        for j in range(len(lst[i])):\n",
    "            if lst[i][j] == '\\t':\n",
    "                mag['x'] = float(lst[i][:j])\n",
    "                mag['y'] = float(lst[i][j:])\n",
    "                mag['magnitude'] = (mag['x']**2 + mag['y']**2)**0.5\n",
    "                lst_parsed.append(mag)\n",
    "    min_mag = lst_parsed[0]\n",
    "    max_mag = lst_parsed[0]\n",
    "    for i in range(len(lst_parsed)):\n",
    "        if lst_parsed[i]['magnitude'] > max_mag['magnitude']:\n",
    "            max_mag = lst_parsed[i]\n",
    "        elif lst_parsed[i]['magnitude'] < min_mag['magnitude']:\n",
    "            min_mag = lst_parsed[i]\n",
    "    min_coordinate = Coordinate()\n",
    "    min_coordinate.x = min_mag['x']\n",
    "    min_coordinate.y = min_mag['y']\n",
    "    max_coordinate = Coordinate()\n",
    "    max_coordinate.x = max_mag['x']\n",
    "    max_coordinate.y = max_mag['y']\n",
    "    return (max_coordinate,min_coordinate)\n",
    "\n",
    "\n",
    "f = open('week6_text_files/xy.dat','r')\n",
    "pmax,pmin = get_maxmin_mag (f)\n",
    "print ('max:({:f},{:f})'.format(pmax.x,pmax.y))\n",
    "print ('min:({:f},{:f})'.format(pmin.x,pmin.y))"
   ]
  },
  {
   "cell_type": "markdown",
   "metadata": {},
   "source": [
    "## Homework"
   ]
  },
  {
   "cell_type": "markdown",
   "metadata": {},
   "source": [
    "### Problem 1"
   ]
  },
  {
   "cell_type": "code",
   "execution_count": 53,
   "metadata": {},
   "outputs": [],
   "source": [
    "def binary_to_decimal(str_bin):\n",
    "    num = 0\n",
    "    for i in range(len(str_bin)):\n",
    "        num += (2**(len(str_bin)-i-1))*int(str_bin[i])\n",
    "    return num"
   ]
  },
  {
   "cell_type": "markdown",
   "metadata": {},
   "source": [
    "### Problem 2"
   ]
  },
  {
   "cell_type": "code",
   "execution_count": 70,
   "metadata": {},
   "outputs": [],
   "source": [
    "def uncompress(c_str):\n",
    "    num_start = 0\n",
    "    uc_str = ''\n",
    "    for i in range(0,len(c_str),2):\n",
    "        uc_str += int(c_str[i]) * c_str[i+1]\n",
    "    return uc_str"
   ]
  },
  {
   "cell_type": "markdown",
   "metadata": {},
   "source": [
    "### Problem 3"
   ]
  },
  {
   "cell_type": "code",
   "execution_count": 87,
   "metadata": {},
   "outputs": [],
   "source": [
    "def get_base_counts2(dna):\n",
    "    base_count = {\"A\":0,\"T\":0,\"C\":0,\"G\":0}\n",
    "    for i in range(len(dna)):\n",
    "        if dna[i].islower() or dna[i].isalpha() == False:\n",
    "            return 'The input DNA string is invalid'\n",
    "        if dna[i] == \"A\":\n",
    "            base_count[\"A\"] += 1\n",
    "        elif dna[i] == \"T\":\n",
    "            base_count[\"T\"] += 1\n",
    "        elif dna[i] == \"G\":\n",
    "            base_count[\"G\"] += 1\n",
    "        elif dna[i] == \"C\":\n",
    "            base_count[\"C\"] += 1\n",
    "    return base_count"
   ]
  },
  {
   "cell_type": "markdown",
   "metadata": {},
   "source": [
    "### Problem 4"
   ]
  },
  {
   "cell_type": "code",
   "execution_count": 59,
   "metadata": {},
   "outputs": [],
   "source": [
    "def get_fundamental_constants(f):\n",
    "    lst = f.readlines()\n",
    "    constdict = {}\n",
    "    after_title = False\n",
    "    for i in lst:\n",
    "        if after_title == False:\n",
    "            if '--------\\n' in i:\n",
    "                after_title = True\n",
    "        else:\n",
    "            name_end = 0\n",
    "            num_start = 0\n",
    "            for j in range(len(i)):\n",
    "                if i[j] == ' ' and i[j-1].isalpha():\n",
    "                    name_end = j\n",
    "                if i[j].isdigit() == True and i[j-1] == ' ':\n",
    "                    num_start = j\n",
    "                if i[j]== ' ' and i[j-1].isdigit():\n",
    "                    constdict[i[:name_end]] = float(i[num_start:j])\n",
    "    return constdict\n",
    "    \n",
    "f = open('week6_text_files/constants.txt','r')"
   ]
  },
  {
   "cell_type": "markdown",
   "metadata": {},
   "source": [
    "### Problem 5"
   ]
  },
  {
   "cell_type": "code",
   "execution_count": 60,
   "metadata": {},
   "outputs": [],
   "source": [
    "def process_scores(f):\n",
    "    score = f.readline()\n",
    "    last_whitespace = 0\n",
    "    num_of_entries = 0\n",
    "    total = 0\n",
    "    for i in range(len(score)):\n",
    "        if score[i] == ' ':\n",
    "            total += float(score[last_whitespace:i])\n",
    "            num_of_entries += 1\n",
    "            last_whitespace = i\n",
    "    total += float(score[last_whitespace:])\n",
    "    num_of_entries += 1\n",
    "    avg = total/num_of_entries\n",
    "    return (total,avg)\n",
    "\n",
    "f = open('week6_text_files/scores.txt','r')"
   ]
  }
 ],
 "metadata": {
  "kernelspec": {
   "display_name": "Python 3",
   "language": "python",
   "name": "python3"
  },
  "language_info": {
   "codemirror_mode": {
    "name": "ipython",
    "version": 3
   },
   "file_extension": ".py",
   "mimetype": "text/x-python",
   "name": "python",
   "nbconvert_exporter": "python",
   "pygments_lexer": "ipython3",
   "version": "3.6.9"
  }
 },
 "nbformat": 4,
 "nbformat_minor": 4
}
