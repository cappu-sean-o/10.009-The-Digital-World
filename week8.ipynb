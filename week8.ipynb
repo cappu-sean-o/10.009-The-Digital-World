{
 "cells": [
  {
   "cell_type": "markdown",
   "metadata": {},
   "source": [
    "# 10.009 Week 8\n",
    "## Cohort Session\n",
    "### Problem 1"
   ]
  },
  {
   "cell_type": "code",
   "execution_count": null,
   "metadata": {},
   "outputs": [],
   "source": [
    "class Coordinate():\n",
    "    \n",
    "    def __init__(self,x = 0, y = 0):\n",
    "        self.x = x\n",
    "        self.y = y\n",
    "    \n",
    "    def magnitude(self):\n",
    "        return (self.x**2 + self.y**2)**0.5\n",
    "    \n",
    "    def translate(self,dx = 0,dy = 0):\n",
    "        self.x += dx\n",
    "        self.y += dy\n",
    "    \n",
    "    def __eq__(self, other):\n",
    "        if self.x == other.x and self.y == other.y :\n",
    "            return True\n",
    "        else:\n",
    "            return False"
   ]
  },
  {
   "cell_type": "markdown",
   "metadata": {},
   "source": [
    "### Problem 2"
   ]
  },
  {
   "cell_type": "code",
   "execution_count": 6,
   "metadata": {},
   "outputs": [],
   "source": [
    "class Celsius():\n",
    "    def __init__(self, temperature = 0):\n",
    "        if temperature < -273:\n",
    "            self._temperature = -273\n",
    "        else:\n",
    "            self._temperature = temperature\n",
    "    \n",
    "    def to_fahrenheit(self):\n",
    "        return round((self._temperature*(9/5))+32,1)\n",
    "    \n",
    "    def get_temperature(self):\n",
    "        return self._temperature\n",
    "    \n",
    "    def set_temperature(self, value):\n",
    "        if value < -273:\n",
    "            self._temperature = -273\n",
    "        else:\n",
    "            self._temperature = value\n",
    "    \n",
    "    temperature = property(get_temperature,set_temperature)"
   ]
  },
  {
   "cell_type": "markdown",
   "metadata": {},
   "source": [
    "### Problem 3"
   ]
  },
  {
   "cell_type": "code",
   "execution_count": null,
   "metadata": {},
   "outputs": [],
   "source": [
    "class StopWatch():\n",
    "    def __init__(self):\n",
    "        self.start_time = time.time()\n",
    "        self.end_time = -1\n",
    "    \n",
    "    def start(self):\n",
    "        self.start_time = time.time()\n",
    "        self.end_time = -1\n",
    "    \n",
    "    def stop(self):\n",
    "        self.end_time = time.time()\n",
    "        \n",
    "    def elapsed_time(self):\n",
    "        if self.start_time == -1 or self.end_time == -1:\n",
    "            return None\n",
    "        else:\n",
    "            return round(self.end_time - self.start_time,1)"
   ]
  },
  {
   "cell_type": "markdown",
   "metadata": {},
   "source": [
    "### Problem 4"
   ]
  },
  {
   "cell_type": "code",
   "execution_count": 29,
   "metadata": {},
   "outputs": [
    {
     "name": "stdout",
     "output_type": "stream",
     "text": [
      "      1.00      3.00\n",
      "      2.33      5.67\n",
      "      3.67      8.33\n",
      "      5.00     11.00\n"
     ]
    }
   ],
   "source": [
    "class Line():\n",
    "    def __init__(self,c0,c1):\n",
    "        self.c0 = c0\n",
    "        self.c1 = c1\n",
    "    \n",
    "    def __call__(self,x):\n",
    "        return self.c0 + self.c1*x\n",
    "    \n",
    "    def table(self,L,R,n):\n",
    "        \n",
    "        if n < 1:\n",
    "            return 'Error in printing table'\n",
    "        \n",
    "        elif L == R:\n",
    "            return (\"%10.2f%10.2f\\n\" %(L,self.__call__(L)))\n",
    "        \n",
    "        string = ''\n",
    "        for j in range(n):\n",
    "            i = round(L + j*(R-L)/(n-1),2)\n",
    "            o = round(self.__call__(L + j*(R-L)/(n-1)),2)\n",
    "            string += (\"%10.2f%10.2f\" %(i,o)) + '\\n'\n",
    "        return string\n",
    "        \n",
    "l = line(1,2)\n",
    "print(l.table(1,5,4))"
   ]
  },
  {
   "cell_type": "markdown",
   "metadata": {},
   "source": [
    "# Homework\n",
    "## Problem 1"
   ]
  },
  {
   "cell_type": "code",
   "execution_count": 18,
   "metadata": {},
   "outputs": [],
   "source": [
    "class Time():\n",
    "    def __init__(self,hours,minutes,seconds):\n",
    "        self._hours = hours%24\n",
    "        self._minutes = minutes%60\n",
    "        self._seconds = seconds%60\n",
    "    \n",
    "    def __str__(self):\n",
    "        return (\"Time: %i:%i:%i\" %(self._hours,self._minutes,self._seconds))\n",
    "    \n",
    "    def get_seconds(self):\n",
    "        return(self._hours*3600 + self._minutes* 60 + self._seconds)\n",
    "    \n",
    "    def set_seconds(self, seconds):\n",
    "        new_seconds = (seconds)%86400\n",
    "        self._hours = (new_seconds//3600)\n",
    "        self._minutes = (new_seconds%3600)//60\n",
    "        self._seconds = (new_seconds%3600)%60\n",
    "    elapsed_time = property(get_seconds,set_seconds)\n",
    "        "
   ]
  },
  {
   "cell_type": "markdown",
   "metadata": {},
   "source": [
    "## Problem 2"
   ]
  },
  {
   "cell_type": "code",
   "execution_count": null,
   "metadata": {},
   "outputs": [],
   "source": [
    "class Account():\n",
    "    def __init__(self, owner, account_number, amount):\n",
    "        self._owner = owner\n",
    "        self._account_number = account_number\n",
    "        self._balance = amount\n",
    "    \n",
    "    def deposit(self, amount):\n",
    "        self._balance += amount\n",
    "    \n",
    "    def withdraw(self, amount):\n",
    "        self._balance -= amount\n",
    "    \n",
    "    def __str__(self):\n",
    "        return (\"%, %i, balance: &i\" %(self._owner,self._account_number,self._balance))"
   ]
  },
  {
   "cell_type": "markdown",
   "metadata": {},
   "source": [
    "## Problem 3"
   ]
  },
  {
   "cell_type": "code",
   "execution_count": 26,
   "metadata": {},
   "outputs": [],
   "source": [
    "class Diff():\n",
    "    def __init__(self,fn,h = 1e-4):\n",
    "        self._h = h\n",
    "        self._f = fn\n",
    "    def __call__(self,x):\n",
    "        return (self._f(x+self._h) - self._f(x))/self._h\n",
    "\n",
    "def f(x):\n",
    "    return 0.25*x**4"
   ]
  },
  {
   "cell_type": "markdown",
   "metadata": {},
   "source": [
    "## Problem 4"
   ]
  },
  {
   "cell_type": "code",
   "execution_count": 84,
   "metadata": {},
   "outputs": [],
   "source": [
    "class Polynomial():\n",
    "    def __init__(self, coeff):\n",
    "        self.coeff = coeff\n",
    "    def __call__(self, x):\n",
    "        y = 0\n",
    "        for i in range(len(self.coeff)):\n",
    "            y += self.coeff[i]*x**i\n",
    "        return y\n",
    "    def __add__(self,othr_p):\n",
    "        new_p = []\n",
    "        if len(othr_p.coeff) >= len(self.coeff):\n",
    "            for i in range(len(self.coeff)):\n",
    "                new_p.append(self.coeff[i] + othr_p.coeff[i])\n",
    "            for i in range(len(self.coeff),len(othr_p.coeff),1):\n",
    "                new_p.append(othr_p.coeff[i])\n",
    "        elif len(othr_p.coeff) < len(self.coeff):\n",
    "            for i in range(len(othr_p.coeff)):\n",
    "                new_p.append(self.coeff[i] + othr_p.coeff[i])\n",
    "            for i in range(len(othr_p.coeff),len(self.coeff),1):\n",
    "                new_p.append(self.coeff[i])\n",
    "        return Polynomial(new_p)\n",
    "    \n",
    "    def __sub__(self,othr_p):\n",
    "        new_p = []\n",
    "        if len(othr_p.coeff) >= len(self.coeff):\n",
    "            for i in range(len(self.coeff)):\n",
    "                new_p.append(self.coeff[i] - othr_p.coeff[i])\n",
    "            for i in range(len(self.coeff),len(othr_p.coeff),1):\n",
    "                new_p.append(-othr_p.coeff[i])\n",
    "        elif len(othr_p.coeff) < len(self.coeff):\n",
    "            for i in range(len(othr_p.coeff)):\n",
    "                new_p.append(self.coeff[i] - othr_p.coeff[i])\n",
    "            for i in range(len(othr_p.coeff),len(self.coeff),1):\n",
    "                new_p.append(self.coeff[i])\n",
    "        return Polynomial(new_p)\n",
    "            \n",
    "    def __mul__(self,othr_p):\n",
    "        new_p = []\n",
    "        for i in range(len(self.coeff)+len(othr_p.coeff)-1):\n",
    "            new_p.append(0)\n",
    "        \n",
    "        for i in range(len(self.coeff)):\n",
    "            for j in range(len(othr_p.coeff)):\n",
    "                new_p[i+j] += self.coeff[i]*othr_p.coeff[j]\n",
    "        return Polynomial(new_p)\n",
    "    \n",
    "    def differentiate(self):\n",
    "        new_p = []\n",
    "        for i in range(len(self.coeff)-1):\n",
    "            new_p.append((i+1)*self.coeff[i+1])\n",
    "        self.coeff = new_p\n",
    "    \n",
    "    def derivative(self):\n",
    "        new_p = []\n",
    "        for i in range(len(self.coeff)-1):\n",
    "            new_p.append((i+1)*self.coeff[i+1])\n",
    "        return Polynomial(new_p)"
   ]
  }
 ],
 "metadata": {
  "kernelspec": {
   "display_name": "Python 3",
   "language": "python",
   "name": "python3"
  },
  "language_info": {
   "codemirror_mode": {
    "name": "ipython",
    "version": 3
   },
   "file_extension": ".py",
   "mimetype": "text/x-python",
   "name": "python",
   "nbconvert_exporter": "python",
   "pygments_lexer": "ipython3",
   "version": "3.6.9"
  }
 },
 "nbformat": 4,
 "nbformat_minor": 4
}
