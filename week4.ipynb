{
 "cells": [
  {
   "cell_type": "markdown",
   "metadata": {},
   "source": [
    "# 10.009 Week 4"
   ]
  },
  {
   "cell_type": "markdown",
   "metadata": {},
   "source": [
    "## Problem Sets"
   ]
  },
  {
   "cell_type": "markdown",
   "metadata": {},
   "source": [
    "### Problem 2"
   ]
  },
  {
   "cell_type": "code",
   "execution_count": 12,
   "metadata": {},
   "outputs": [
    {
     "name": "stdout",
     "output_type": "stream",
     "text": [
      "608.81\n"
     ]
    }
   ],
   "source": [
    "def compound_value_months(savings,interest,months):\n",
    "    value = 0\n",
    "    for n in range(months):\n",
    "        value = (value + savings)*(1+(interest/12))\n",
    "    return round(value,2)\n",
    "print(compound_value_months(100,0.05,6))\n",
    "        "
   ]
  },
  {
   "cell_type": "markdown",
   "metadata": {},
   "source": [
    "### Problem 3"
   ]
  },
  {
   "cell_type": "code",
   "execution_count": 18,
   "metadata": {},
   "outputs": [
    {
     "data": {
      "text/plain": [
       "([3.5, 6.0, 3.0], 4.25)"
      ]
     },
     "execution_count": 18,
     "metadata": {},
     "output_type": "execute_result"
    }
   ],
   "source": [
    "def find_average(l):\n",
    "    sum_l=[]\n",
    "    sum_ave = 0.0\n",
    "    sum_div = 0\n",
    "    for i in range(len(l)):\n",
    "        sum_l.append(0.0)\n",
    "        for j in range(len(l[i])):\n",
    "            sum_l[i] += l[i][j]\n",
    "            sum_ave += l[i][j]\n",
    "        sum_l[i] /= len(l[i])\n",
    "        sum_div += len(l[i])\n",
    "    sum_ave /= sum_div\n",
    "    return(sum_l,sum_ave)\n",
    "    \n",
    "find_average([[3,4],[5,6,7],[-1,2,8]])\n",
    "            \n",
    "        "
   ]
  },
  {
   "cell_type": "markdown",
   "metadata": {},
   "source": [
    "### Problem 4"
   ]
  },
  {
   "cell_type": "code",
   "execution_count": 49,
   "metadata": {},
   "outputs": [],
   "source": [
    "def transpose_matrix(m):\n",
    "    r = len(m)\n",
    "    c = len(m[0])\n",
    "    m_t = []\n",
    "    for i in range(c):\n",
    "        m_t.append([])\n",
    "        for j in range(r):\n",
    "            m_t[i].append(m[j][i])\n",
    "    return m_t\n",
    "\n",
    "\n",
    "            "
   ]
  },
  {
   "cell_type": "markdown",
   "metadata": {},
   "source": [
    "### Problem 5"
   ]
  },
  {
   "cell_type": "code",
   "execution_count": 66,
   "metadata": {},
   "outputs": [
    {
     "name": "stdout",
     "output_type": "stream",
     "text": [
      "0\n",
      "1\n",
      "8123498\n"
     ]
    }
   ],
   "source": [
    "def get_details(name,key_name,lst):\n",
    "    for i in range(len(lst)):\n",
    "        if lst[i].get('name') == name:\n",
    "            return lst[i].get(key_name)\n",
    "    return None\n",
    "            \n",
    "\n",
    "phonebook =[{'name':'Andrew','mobile_phone':9477865,'office_phone':6612345,'email':'andrew@sutd.edu.sg'},{'name':'Bobby','mobile_phone':8123498,'office_phone':6654321,'email':'bobby@sutd.edu.sg'}]\n",
    "print(get_details('Bobby','mobile_phone',phonebook))"
   ]
  },
  {
   "cell_type": "markdown",
   "metadata": {},
   "source": [
    "### Problem 6"
   ]
  },
  {
   "cell_type": "code",
   "execution_count": 61,
   "metadata": {},
   "outputs": [
    {
     "name": "stdout",
     "output_type": "stream",
     "text": [
      "{'A': 3, 'T': 4, 'C': 4, 'G': 4}\n"
     ]
    }
   ],
   "source": [
    "def get_base_counts(dna):\n",
    "    base_count = {\"A\":0,\"T\":0,\"C\":0,\"G\":0}\n",
    "    for i in range(len(dna)):\n",
    "        if dna[i] == \"A\":\n",
    "            base_count[\"A\"] += 1\n",
    "        elif dna[i] == \"T\":\n",
    "            base_count[\"T\"] += 1\n",
    "        elif dna[i] == \"G\":\n",
    "            base_count[\"G\"] += 1\n",
    "        elif dna[i] == \"C\":\n",
    "            base_count[\"C\"] += 1\n",
    "        else:\n",
    "            return 'The input DNA string is invalid'\n",
    "    return base_count"
   ]
  },
  {
   "cell_type": "markdown",
   "metadata": {},
   "source": [
    "## Homework"
   ]
  },
  {
   "cell_type": "markdown",
   "metadata": {},
   "source": [
    "### Problem 1"
   ]
  },
  {
   "cell_type": "code",
   "execution_count": 73,
   "metadata": {},
   "outputs": [],
   "source": [
    "def f_to_c(f):\n",
    "    c = round((f - 32)*(5/9),1)\n",
    "    return c\n",
    "\n",
    "def f_to_c_approx(f):\n",
    "    approx_c = (f - 30)/2\n",
    "    return approx_c\n",
    "\n",
    "def get_conversion_table_a():\n",
    "    table = []\n",
    "    for f in range(0,101,10):\n",
    "        table.append([f,f_to_c(f),f_to_c_approx(f)])\n",
    "    return table\n",
    "\n",
    "def get_conversion_table_c():\n",
    "    return transpose_matrix(get_conversion_table_a())"
   ]
  },
  {
   "cell_type": "markdown",
   "metadata": {},
   "source": [
    "### Problem 2"
   ]
  },
  {
   "cell_type": "code",
   "execution_count": null,
   "metadata": {},
   "outputs": [],
   "source": [
    "def max_list(inlist):\n",
    "    outlist = []\n",
    "    for i in range(len(inlist)):\n",
    "        max_num = inlist[i][0]\n",
    "        for j in range(len(inlist[i])):\n",
    "            if inlist[i][j] > max_num:\n",
    "                max_num = inlist[i][j]\n",
    "        outlist.append(max_num)\n",
    "    return outlist"
   ]
  },
  {
   "cell_type": "markdown",
   "metadata": {},
   "source": [
    "### Problem 3"
   ]
  },
  {
   "cell_type": "code",
   "execution_count": 77,
   "metadata": {},
   "outputs": [],
   "source": [
    "def multiplication_table(n):\n",
    "    if n < 1:\n",
    "        return None\n",
    "    else:\n",
    "        table = []\n",
    "        for i in range(1,n+1,1):\n",
    "            table.append([])\n",
    "            for j in range(1,n+1,1):\n",
    "                table[i-1].append(i*j)\n",
    "        return table"
   ]
  },
  {
   "cell_type": "markdown",
   "metadata": {},
   "source": [
    "### Problem 4"
   ]
  },
  {
   "cell_type": "code",
   "execution_count": 11,
   "metadata": {},
   "outputs": [],
   "source": [
    "def most_frequent(lst):\n",
    "    most_freq = {}\n",
    "    for i in range(len(lst)):\n",
    "        if lst[i] in most_freq:\n",
    "            most_freq[lst[i]] += 1\n",
    "        else:\n",
    "            most_freq[lst[i]] = 1\n",
    "    most_freq_num = []\n",
    "    freq = 0\n",
    "    for i,j in most_freq.items():\n",
    "        if j > freq:\n",
    "            freq = j\n",
    "            most_freq_num.clear()\n",
    "            most_freq_num.append(i)\n",
    "        elif j == freq:\n",
    "            most_freq_num.append(i)\n",
    "    return most_freq_num"
   ]
  },
  {
   "cell_type": "markdown",
   "metadata": {},
   "source": [
    "### Problem 5"
   ]
  },
  {
   "cell_type": "code",
   "execution_count": null,
   "metadata": {},
   "outputs": [],
   "source": [
    "def diff(p):\n",
    "    dp = {}\n",
    "    for i,j in p.items():\n",
    "        if int(i) != 0:\n",
    "            dp[i-1] = i*j\n",
    "    return dp\n"
   ]
  }
 ],
 "metadata": {
  "kernelspec": {
   "display_name": "Python 3",
   "language": "python",
   "name": "python3"
  },
  "language_info": {
   "codemirror_mode": {
    "name": "ipython",
    "version": 3
   },
   "file_extension": ".py",
   "mimetype": "text/x-python",
   "name": "python",
   "nbconvert_exporter": "python",
   "pygments_lexer": "ipython3",
   "version": "3.6.9"
  }
 },
 "nbformat": 4,
 "nbformat_minor": 4
}
