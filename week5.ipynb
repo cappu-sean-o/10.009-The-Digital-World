{
 "cells": [
  {
   "cell_type": "markdown",
   "metadata": {},
   "source": [
    "# 10.009 Week 5"
   ]
  },
  {
   "cell_type": "markdown",
   "metadata": {},
   "source": [
    "## Cohort Session"
   ]
  },
  {
   "cell_type": "markdown",
   "metadata": {},
   "source": [
    "### Problem 1\n",
    "Game: Craps: Craps is a popular dice game played in casinos. Write a program allowing\n",
    "you to play a variation of the game. This is how the game would be played:\n",
    "\n",
    "(a) For the first round, roll two die. Each dice has six faces, and each face reflects a value from 1 to 6. Check the sum of the two die.\n",
    "\n",
    "    i. If the sum is 2, 3 or 12 (called craps), you lose\n",
    "    ii. If the sum is 7 or 11 (called natural), you win\n",
    "    iii. If the sum is another value (i.e. 4,5,6,8,9, or 10), you earn points equal to the sum obtained.\n",
    "\n",
    "(b) Continue to roll the die until the sum of both die is either a 7 or the points obtained\n",
    "in the first round.\n",
    "\n",
    "    i. If 7 is rolled, you lose\n",
    "    ii. If the sum obtained is equal to the points you obtained in the first round, you win\n",
    "    iii. For other sums, continue to roll the die"
   ]
  },
  {
   "cell_type": "code",
   "execution_count": 45,
   "metadata": {},
   "outputs": [],
   "source": [
    "import random\n",
    "\n",
    "craps = set([2,3,12])\n",
    "naturals = set([7,11])\n",
    "\n",
    "def roll_two_dices():\n",
    "    n1 = random.randint(1,6)\n",
    "    n2 = random.randint(1,6)\n",
    "    return n1, n2\n",
    "\n",
    "def print_lose():\n",
    "    print('You lose')\n",
    "    return None\n",
    "    \n",
    "def print_win():\n",
    "    print('You Win')\n",
    "    return None\n",
    "    \n",
    "def print_point(point):\n",
    "    print('Your points are', point)\n",
    "    \n",
    "def is_craps(sumn):\n",
    "    if set([sumn]).issubset(craps):\n",
    "        return True\n",
    "    else:\n",
    "        return False\n",
    "    \n",
    "def is_naturals(sumn):\n",
    "    if set([sumn]).issubset(naturals):\n",
    "        return True\n",
    "    else:\n",
    "        return False\n",
    "\n",
    "def play_craps():\n",
    "    point =-1\n",
    "    while True :\n",
    "        n1 ,n2= roll_two_dices()\n",
    "        sumn =n1+n2\n",
    "        print('You rolled {:d} + {:d} = {:d}'.format(n1 ,n2 , sumn ))\n",
    "        if point == -1:\n",
    "            if is_craps(sumn):\n",
    "                print_lose()\n",
    "                #return 0\n",
    "                break\n",
    "            elif is_naturals(sumn):\n",
    "                print_win()\n",
    "                #return 1\n",
    "                break\n",
    "            point = sumn\n",
    "            print_point(point)\n",
    "        else:\n",
    "            if sumn == 7:\n",
    "                print_lose()\n",
    "                #return 0\n",
    "                break\n",
    "            elif sumn == point :\n",
    "                print_win()\n",
    "                #return 1\n",
    "                break"
   ]
  },
  {
   "cell_type": "code",
   "execution_count": 46,
   "metadata": {},
   "outputs": [
    {
     "name": "stdout",
     "output_type": "stream",
     "text": [
      "You rolled 5 + 1 = 6\n",
      "Your points are 6\n",
      "You rolled 2 + 3 = 5\n",
      "You rolled 2 + 3 = 5\n",
      "You rolled 4 + 1 = 5\n",
      "You rolled 6 + 2 = 8\n",
      "You rolled 2 + 2 = 4\n",
      "You rolled 1 + 5 = 6\n",
      "You Win\n"
     ]
    }
   ],
   "source": [
    "play_craps()"
   ]
  },
  {
   "cell_type": "markdown",
   "metadata": {
    "jupyter": {
     "outputs_hidden": true
    }
   },
   "source": [
    "#### About Sets\n",
    "Sets contain unique elements\n",
    "```\n",
    "days1 = {\"Monday\", \"Tuesday\", \"Wednesday\", \"Monday\"}\n",
    "days2 = {\"Thursday\", \"Friday\", \"Saturday\", \"Sunday\"}\n",
    "print(\"Days1 set: \", days1)\n",
    "```\n",
    "Union of sets:\n",
    "```\n",
    "print(\"Union: \", days1 | days2)\n",
    "\n",
    "working1 = {\"Thursday\", \"Friday\", \"Saturday\"}\n",
    "working2 = {\"Monday\",\"Tuesday\",\"Wednesday\", \"Thursday\", \"Friday\", \"Saturday\"}\n",
    "```\n",
    "Intersection of sets:\n",
    "```\n",
    "print(\"Intersection: \", working1 & working2)\n",
    "```"
   ]
  },
  {
   "cell_type": "markdown",
   "metadata": {},
   "source": [
    "### Problem 2"
   ]
  },
  {
   "cell_type": "code",
   "execution_count": 47,
   "metadata": {},
   "outputs": [
    {
     "name": "stdout",
     "output_type": "stream",
     "text": [
      "True\n"
     ]
    }
   ],
   "source": [
    "def leap_year(year):\n",
    "    if year%4 != 0:\n",
    "        return False\n",
    "    elif year%100 != 0:\n",
    "        return True\n",
    "    elif year%400 != 0:\n",
    "        return False\n",
    "    else:\n",
    "        return True\n",
    "print(leap_year(2012))"
   ]
  },
  {
   "cell_type": "code",
   "execution_count": 48,
   "metadata": {},
   "outputs": [
    {
     "name": "stdout",
     "output_type": "stream",
     "text": [
      "4\n"
     ]
    }
   ],
   "source": [
    "def R(x,y):\n",
    "    if x > y:\n",
    "        remainder = int(x) - int(x/y)*int(y)\n",
    "        return remainder\n",
    "    else:\n",
    "        return None\n",
    "\n",
    "def day_of_week_jan1(year):\n",
    "    d = R(1+5*R(year-1,4)+4*R(year-1,100)+6*R(year-1,400),7)\n",
    "    return d\n",
    "\n",
    "print(day_of_week_jan1(2015))"
   ]
  },
  {
   "cell_type": "code",
   "execution_count": 49,
   "metadata": {},
   "outputs": [
    {
     "name": "stdout",
     "output_type": "stream",
     "text": [
      "28\n"
     ]
    }
   ],
   "source": [
    "def num_days_in_month(month_num, leap_year):\n",
    "    month_normal = {1:31, 2:28, 3:31, 4:30, 5:31, 6:30, 7:31, 8:31, 9:30, 10:31, 11:30, 12:31}\n",
    "    month_leap = {1:31, 2:29, 3:31, 4:30, 5:31, 6:30, 7:31, 8:31, 9:30, 10:31, 11:30, 12:31}\n",
    "    if leap_year == True:\n",
    "        return month_leap[month_num]\n",
    "    else:\n",
    "        return month_normal[month_num]\n",
    "    \n",
    "print(num_days_in_month(2,False))"
   ]
  },
  {
   "cell_type": "code",
   "execution_count": 50,
   "metadata": {},
   "outputs": [
    {
     "name": "stdout",
     "output_type": "stream",
     "text": [
      "January\n",
      "********************1\n",
      "**2**3**4**5**6**7**8\n",
      "**9*10*11*12*13*14*15\n",
      "*16*17*18*19*20*21*22\n",
      "*23*24*25*26*27*28*29\n",
      "*30*31\n",
      "\n"
     ]
    }
   ],
   "source": [
    "def print_cal_month(list_of_str):\n",
    "    ret_val =''\n",
    "    for l in list_of_str :\n",
    "        ret_val += l.replace(' ','*')\n",
    "        ret_val += '\\n'\n",
    "    return ret_val\n",
    "\n",
    "def day_str_formatter(n):\n",
    "    if len(str(n)) == 2:\n",
    "        return ' ' + str(n)\n",
    "    elif len(str(n)) == 1:\n",
    "        return '  ' + str(n)\n",
    "    else:\n",
    "        return None\n",
    "\n",
    "def construct_cal_month(month_num, first_day_of_month, num_days_in_month):\n",
    "    cal_month  = []\n",
    "    month = {1:'January', 2:'February', 3:'March', 4:'April', 5:'May', 6:'June', 7:'July', 8:'August', 9:'September', 10:'October', 11:'November', 12:'December'}\n",
    "    cal_month.append(month[month_num])\n",
    "    day = first_day_of_month\n",
    "    for i in range(first_day_of_month):\n",
    "        if i == 0:\n",
    "            cal_month.append('   ')\n",
    "        else:\n",
    "            cal_month[1] += '   '\n",
    "    for j in range(1,num_days_in_month+1,1):\n",
    "        if day == 0:\n",
    "            cal_month.append(day_str_formatter(j))\n",
    "            day += 1\n",
    "        elif day == 6:\n",
    "            cal_month[len(cal_month)-1] += day_str_formatter(j)\n",
    "            day = 0\n",
    "        else:\n",
    "            cal_month[len(cal_month)-1] += day_str_formatter(j)\n",
    "            day += 1\n",
    "            \n",
    "    return cal_month\n",
    "\n",
    "print(print_cal_month(construct_cal_month(1,6,31)))"
   ]
  },
  {
   "cell_type": "code",
   "execution_count": 51,
   "metadata": {},
   "outputs": [
    {
     "name": "stdout",
     "output_type": "stream",
     "text": [
      "[2018, ['January', '     1  2  3  4  5  6', '  7  8  9 10 11 12 13', ' 14 15 16 17 18 19 20', ' 21 22 23 24 25 26 27', ' 28 29 30 31'], ['February', '              1  2  3', '  4  5  6  7  8  9 10', ' 11 12 13 14 15 16 17', ' 18 19 20 21 22 23 24', ' 25 26 27 28'], ['March', '              1  2  3', '  4  5  6  7  8  9 10', ' 11 12 13 14 15 16 17', ' 18 19 20 21 22 23 24', ' 25 26 27 28 29 30 31'], ['April', '  1  2  3  4  5  6  7', '  8  9 10 11 12 13 14', ' 15 16 17 18 19 20 21', ' 22 23 24 25 26 27 28', ' 29 30'], ['May', '        1  2  3  4  5', '  6  7  8  9 10 11 12', ' 13 14 15 16 17 18 19', ' 20 21 22 23 24 25 26', ' 27 28 29 30 31'], ['June', '                 1  2', '  3  4  5  6  7  8  9', ' 10 11 12 13 14 15 16', ' 17 18 19 20 21 22 23', ' 24 25 26 27 28 29 30'], ['July', '  1  2  3  4  5  6  7', '  8  9 10 11 12 13 14', ' 15 16 17 18 19 20 21', ' 22 23 24 25 26 27 28', ' 29 30 31'], ['August', '           1  2  3  4', '  5  6  7  8  9 10 11', ' 12 13 14 15 16 17 18', ' 19 20 21 22 23 24 25', ' 26 27 28 29 30 31'], ['September', '                    1', '  2  3  4  5  6  7  8', '  9 10 11 12 13 14 15', ' 16 17 18 19 20 21 22', ' 23 24 25 26 27 28 29', ' 30'], ['October', '     1  2  3  4  5  6', '  7  8  9 10 11 12 13', ' 14 15 16 17 18 19 20', ' 21 22 23 24 25 26 27', ' 28 29 30 31'], ['November', '              1  2  3', '  4  5  6  7  8  9 10', ' 11 12 13 14 15 16 17', ' 18 19 20 21 22 23 24', ' 25 26 27 28 29 30'], ['December', '                    1', '  2  3  4  5  6  7  8', '  9 10 11 12 13 14 15', ' 16 17 18 19 20 21 22', ' 23 24 25 26 27 28 29', ' 30 31']]\n"
     ]
    }
   ],
   "source": [
    "def fst_day_of_month(cal_year):\n",
    "    last_day_of_month = int(len(cal_year[len(cal_year)-1][len(cal_year[len(cal_year)-1])-1])/3) - 1\n",
    "    if last_day_of_month == 6:\n",
    "        return 0\n",
    "    else:\n",
    "        return last_day_of_month + 1\n",
    "\n",
    "def construct_cal_year(year):\n",
    "    if 1800 <= year <= 2099:\n",
    "        cal_year = [year]\n",
    "        for i in range(12):\n",
    "            if i == 0:\n",
    "                cal_year.append(construct_cal_month(i+1,day_of_week_jan1(year),num_days_in_month(i+1,leap_year(year))))\n",
    "            else:\n",
    "                cal_year.append(construct_cal_month(i+1,fst_day_of_month(cal_year),num_days_in_month(i+1,leap_year(year))))\n",
    "        return cal_year\n",
    "    else:\n",
    "        return None\n",
    "\n",
    "\n",
    "print(construct_cal_year(2018))"
   ]
  },
  {
   "cell_type": "code",
   "execution_count": 52,
   "metadata": {},
   "outputs": [
    {
     "name": "stdout",
     "output_type": "stream",
     "text": [
      "January\n",
      "  S  M  T  W  T  F  S\n",
      "        1  2  3  4  5\n",
      "  6  7  8  9 10 11 12\n",
      " 13 14 15 16 17 18 19\n",
      " 20 21 22 23 24 25 26\n",
      " 27 28 29 30 31\n",
      "\n",
      "February\n",
      "  S  M  T  W  T  F  S\n",
      "                 1  2\n",
      "  3  4  5  6  7  8  9\n",
      " 10 11 12 13 14 15 16\n",
      " 17 18 19 20 21 22 23\n",
      " 24 25 26 27 28\n",
      "\n",
      "March\n",
      "  S  M  T  W  T  F  S\n",
      "                 1  2\n",
      "  3  4  5  6  7  8  9\n",
      " 10 11 12 13 14 15 16\n",
      " 17 18 19 20 21 22 23\n",
      " 24 25 26 27 28 29 30\n",
      " 31\n",
      "\n",
      "April\n",
      "  S  M  T  W  T  F  S\n",
      "     1  2  3  4  5  6\n",
      "  7  8  9 10 11 12 13\n",
      " 14 15 16 17 18 19 20\n",
      " 21 22 23 24 25 26 27\n",
      " 28 29 30\n",
      "\n",
      "May\n",
      "  S  M  T  W  T  F  S\n",
      "           1  2  3  4\n",
      "  5  6  7  8  9 10 11\n",
      " 12 13 14 15 16 17 18\n",
      " 19 20 21 22 23 24 25\n",
      " 26 27 28 29 30 31\n",
      "\n",
      "June\n",
      "  S  M  T  W  T  F  S\n",
      "                    1\n",
      "  2  3  4  5  6  7  8\n",
      "  9 10 11 12 13 14 15\n",
      " 16 17 18 19 20 21 22\n",
      " 23 24 25 26 27 28 29\n",
      " 30\n",
      "\n",
      "July\n",
      "  S  M  T  W  T  F  S\n",
      "     1  2  3  4  5  6\n",
      "  7  8  9 10 11 12 13\n",
      " 14 15 16 17 18 19 20\n",
      " 21 22 23 24 25 26 27\n",
      " 28 29 30 31\n",
      "\n",
      "August\n",
      "  S  M  T  W  T  F  S\n",
      "              1  2  3\n",
      "  4  5  6  7  8  9 10\n",
      " 11 12 13 14 15 16 17\n",
      " 18 19 20 21 22 23 24\n",
      " 25 26 27 28 29 30 31\n",
      "\n",
      "September\n",
      "  S  M  T  W  T  F  S\n",
      "  1  2  3  4  5  6  7\n",
      "  8  9 10 11 12 13 14\n",
      " 15 16 17 18 19 20 21\n",
      " 22 23 24 25 26 27 28\n",
      " 29 30\n",
      "\n",
      "October\n",
      "  S  M  T  W  T  F  S\n",
      "        1  2  3  4  5\n",
      "  6  7  8  9 10 11 12\n",
      " 13 14 15 16 17 18 19\n",
      " 20 21 22 23 24 25 26\n",
      " 27 28 29 30 31\n",
      "\n",
      "November\n",
      "  S  M  T  W  T  F  S\n",
      "                 1  2\n",
      "  3  4  5  6  7  8  9\n",
      " 10 11 12 13 14 15 16\n",
      " 17 18 19 20 21 22 23\n",
      " 24 25 26 27 28 29 30\n",
      "\n",
      "December\n",
      "  S  M  T  W  T  F  S\n",
      "  1  2  3  4  5  6  7\n",
      "  8  9 10 11 12 13 14\n",
      " 15 16 17 18 19 20 21\n",
      " 22 23 24 25 26 27 28\n",
      " 29 30 31\n"
     ]
    }
   ],
   "source": [
    "def print_space_display_calendar(calendar):\n",
    "    temp = calendar.replace(' ','*')\n",
    "    return temp.replace('\\n','+\\n')\n",
    "\n",
    "def display_calendar(year):\n",
    "    lst_year = construct_cal_year(year)\n",
    "    big_string = ''\n",
    "    for i in range(1,13,1):\n",
    "        big_string += lst_year[i][0] + '\\n'\n",
    "        big_string += '  S  M  T  W  T  F  S\\n'\n",
    "        for j in range(1,len(lst_year[i])):\n",
    "            big_string += lst_year[i][j] + '\\n'\n",
    "        big_string += '\\n'\n",
    "    big_string = big_string[:-2]\n",
    "    return big_string\n",
    "\n",
    "print((display_calendar(2019)))"
   ]
  },
  {
   "cell_type": "code",
   "execution_count": 53,
   "metadata": {},
   "outputs": [
    {
     "name": "stdout",
     "output_type": "stream",
     "text": [
      "16\n"
     ]
    }
   ],
   "source": [
    "#recursion:\n",
    "def summ(lst):\n",
    "    ret_summ = 0\n",
    "    if lst == [] or lst == [1]:\n",
    "        return ret_summ\n",
    "    else:\n",
    "        ret_summ += lst[0] + sum(lst[1:]) #recursion \n",
    "        return ret_summ\n",
    "        \n",
    "print(summ([1,3,4,8])) "
   ]
  },
  {
   "cell_type": "markdown",
   "metadata": {},
   "source": [
    "### Problem 3"
   ]
  },
  {
   "cell_type": "code",
   "execution_count": 54,
   "metadata": {},
   "outputs": [
    {
     "name": "stdout",
     "output_type": "stream",
     "text": [
      "24\n"
     ]
    }
   ],
   "source": [
    "def fact_rec(n):\n",
    "    if n > 1:\n",
    "        return n*fact_rec(n-1)\n",
    "    elif n == 0:\n",
    "        return 1\n",
    "    else:\n",
    "        return n\n",
    "print(fact_rec(4))"
   ]
  },
  {
   "cell_type": "markdown",
   "metadata": {},
   "source": [
    "# Homework"
   ]
  },
  {
   "cell_type": "markdown",
   "metadata": {},
   "source": [
    "### Problem 1"
   ]
  },
  {
   "cell_type": "code",
   "execution_count": 56,
   "metadata": {},
   "outputs": [
    {
     "name": "stdin",
     "output_type": "stream",
     "text": [
      "Enter integer pair (hit Enter to quit) 123 456\n"
     ]
    },
    {
     "name": "stdout",
     "output_type": "stream",
     "text": [
      "0.26973684210526316\n"
     ]
    }
   ],
   "source": [
    "def get_data():\n",
    "    return input('Enter integer pair (hit Enter to quit)')\n",
    "\n",
    "def extract_values(string):\n",
    "    for i in range(len(string)):\n",
    "        if string[i-1] == ' ':\n",
    "            num1 = string[:i]\n",
    "            num2 = string[i:]\n",
    "            return (int(num1),int(num2))\n",
    "\n",
    "def calc_ratios(numbers):\n",
    "    if numbers[1] == 0:\n",
    "        return None\n",
    "    else:\n",
    "        ratio = numbers[0]/numbers[1]\n",
    "        return ratio\n",
    "\n",
    "print(calc_ratios(extract_values(get_data())))"
   ]
  },
  {
   "cell_type": "markdown",
   "metadata": {},
   "source": [
    "### Problem 2"
   ]
  },
  {
   "cell_type": "code",
   "execution_count": 66,
   "metadata": {},
   "outputs": [
    {
     "name": "stdout",
     "output_type": "stream",
     "text": [
      "January\n",
      "  S  M  T  W  T  F  S\n",
      "        1  2  3  4  5\n",
      "  6  7  8  9 10 11 12\n",
      " 13 14 15 16 17 18 19\n",
      " 20 21 22 23 24 25 26\n",
      " 27 28 29 30 31\n"
     ]
    }
   ],
   "source": [
    "def display_calendar_modified(calendar_year,month):\n",
    "    if month == None:\n",
    "        return display_calendar(calendar_year)\n",
    "        return None\n",
    "    elif  1 <= month <= 12:\n",
    "        month_list = construct_cal_year(calendar_year)[month]\n",
    "        month_string = ''\n",
    "        month_string += month_list[0] + '\\n  S  M  T  W  T  F  S\\n'\n",
    "        for i in range(1, len(month_list),1):\n",
    "            month_string += month_list[i] + '\\n'\n",
    "        month_string = month_string[:-1]\n",
    "        return month_string\n",
    "        \n",
    "print(display_calendar_modified(2019,1))"
   ]
  },
  {
   "cell_type": "code",
   "execution_count": null,
   "metadata": {},
   "outputs": [],
   "source": []
  }
 ],
 "metadata": {
  "kernelspec": {
   "display_name": "Python 3",
   "language": "python",
   "name": "python3"
  },
  "language_info": {
   "codemirror_mode": {
    "name": "ipython",
    "version": 3
   },
   "file_extension": ".py",
   "mimetype": "text/x-python",
   "name": "python",
   "nbconvert_exporter": "python",
   "pygments_lexer": "ipython3",
   "version": "3.6.9"
  }
 },
 "nbformat": 4,
 "nbformat_minor": 4
}
