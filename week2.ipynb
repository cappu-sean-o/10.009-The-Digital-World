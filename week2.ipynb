{
 "cells": [
  {
   "cell_type": "markdown",
   "metadata": {},
   "source": [
    "# 10.009 Digital World Week 2"
   ]
  },
  {
   "cell_type": "markdown",
   "metadata": {},
   "source": [
    "## Problem 1"
   ]
  },
  {
   "cell_type": "code",
   "execution_count": 1,
   "metadata": {},
   "outputs": [
    {
     "name": "stdout",
     "output_type": "stream",
     "text": [
      "(-440.5, -93.1)\n",
      "(0.0, 5.0)\n",
      "(-122.62, -49.05)\n"
     ]
    }
   ],
   "source": [
    "def position_velocity(v0,t):\n",
    "    g = 9.81\n",
    "    y = round(v0*t - 0.5*g*t**2,2)\n",
    "    yprime = round(v0 - g*t,2)\n",
    "    return((y,yprime))\n",
    "\n",
    "print(position_velocity(5.0,10.0))\n",
    "print(position_velocity(5.0,0.0))\n",
    "print(position_velocity(0.0,5.0))"
   ]
  },
  {
   "cell_type": "markdown",
   "metadata": {},
   "source": [
    "## Problem 2"
   ]
  },
  {
   "cell_type": "code",
   "execution_count": 20,
   "metadata": {},
   "outputs": [
    {
     "name": "stdin",
     "output_type": "stream",
     "text": [
      "What is your weight? (In kilograms) 95.5\n",
      "What is your height? (In m or cm) 180\n"
     ]
    },
    {
     "name": "stdout",
     "output_type": "stream",
     "text": [
      "Your BMI is 29.5\n"
     ]
    }
   ],
   "source": [
    "def bmi(weight,height):\n",
    "    if height > 10 :\n",
    "        hgt = height/100\n",
    "    else:\n",
    "        hgt = height\n",
    "    index = round(weight/(hgt**2),1)\n",
    "    return(index)\n",
    "\n",
    "w = float(input('What is your weight? (In kilograms)'))\n",
    "h = float(input('What is your height? (In m or cm)'))\n",
    "print('Your BMI is',bmi(w,h))"
   ]
  },
  {
   "cell_type": "markdown",
   "metadata": {},
   "source": [
    "## Problem 3"
   ]
  },
  {
   "cell_type": "code",
   "execution_count": 5,
   "metadata": {},
   "outputs": [
    {
     "name": "stdout",
     "output_type": "stream",
     "text": [
      " Test Case 1 \n",
      "33.6\n",
      " Test Case 2 \n",
      "28.9\n",
      " Test Case 3 \n",
      "2.4\n",
      " Test Case 4 \n",
      "25.4\n"
     ]
    },
    {
     "name": "stdin",
     "output_type": "stream",
     "text": [
      "Enter x coordinate of the first point of a triangle: 1.5\n",
      "Enter y coordinate of the first point of a triangle: -3.4\n",
      "Enter x coordinate of the second point of a triangle: 4.6\n",
      "Enter y coordinate of the second point of a triangle: 5\n",
      "Enter x coordinate of the third point of a triangle: 9.5\n",
      "Enter y coordinate of the third point of a triangle: -3.4\n"
     ]
    },
    {
     "name": "stdout",
     "output_type": "stream",
     "text": [
      "The area of the triange is 33.6\n"
     ]
    }
   ],
   "source": [
    "class Coordinate:\n",
    "    x = 0.0\n",
    "    y = 0.0\n",
    "\n",
    "def area_of_triangle(v1,v2,v3):\n",
    "    side1 = (((v1.x - v2.x)**2) + ((v1.y - v2.y)**2))**0.5\n",
    "    side2 = (((v2.x - v3.x)**2) + ((v2.y - v3.y)**2))**0.5\n",
    "    side3 = (((v3.x - v1.x)**2) + ((v3.y - v1.y)**2))**0.5\n",
    "    s = (side1 + side2 + side3)/2\n",
    "    area = round(((s*(s-side1)*(s-side2)*(s-side3))**0.5),1)\n",
    "    return(area)\n",
    "\n",
    "p1 = Coordinate()\n",
    "p2 = Coordinate()\n",
    "p3 = Coordinate()\n",
    "\n",
    "print ( \" Test Case 1 \" )\n",
    "p1.x =1.5\n",
    "p1.y = -3.4\n",
    "p2.x =4.6\n",
    "p2.y =5\n",
    "p3.x =9.5\n",
    "p3.y = -3.4\n",
    "ans = area_of_triangle(p1,p2,p3)\n",
    "print(ans)\n",
    "\n",
    "print(\" Test Case 2 \")\n",
    "p1.x =2.0\n",
    "p1.y = -3.4\n",
    "p2.x =4.6\n",
    "p2.y =5\n",
    "p3.x =9.5\n",
    "p3.y = -1.4\n",
    "ans = area_of_triangle ( p1 , p2 , p3 )\n",
    "print (ans)\n",
    "\n",
    "print (\" Test Case 3 \")\n",
    "p1.x =1.5\n",
    "p1.y =3.4\n",
    "p2.x =4.6\n",
    "p2.y =5\n",
    "p3.x = -1.5\n",
    "p3.y =3.4\n",
    "ans = area_of_triangle ( p1 , p2 , p3 )\n",
    "print (ans)\n",
    "\n",
    "print ( \" Test Case 4 \" )\n",
    "p1.x = -1.5\n",
    "p1.y =3.4\n",
    "p2.x =4.6\n",
    "p2.y =5\n",
    "p3.x =4.3\n",
    "p3.y = -3.4\n",
    "ans = area_of_triangle ( p1 , p2 , p3 )\n",
    "print (ans)\n",
    "\n",
    "p1.x = float(input(\"Enter x coordinate of the first point of a triangle:\"))\n",
    "p1.y = float(input(\"Enter y coordinate of the first point of a triangle:\"))\n",
    "p2.x = float(input(\"Enter x coordinate of the second point of a triangle:\"))\n",
    "p2.y = float(input(\"Enter y coordinate of the second point of a triangle:\"))\n",
    "p3.x = float(input(\"Enter x coordinate of the third point of a triangle:\"))\n",
    "p3.y = float(input(\"Enter y coordinate of the third point of a triangle:\"))\n",
    "\n",
    "print(\"The area of the triangle is\" ,area_of_triangle(p1,p2,p3))"
   ]
  },
  {
   "cell_type": "markdown",
   "metadata": {},
   "source": [
    "## Question 4"
   ]
  },
  {
   "cell_type": "code",
   "execution_count": 10,
   "metadata": {},
   "outputs": [
    {
     "name": "stdout",
     "output_type": "stream",
     "text": [
      "Case 1, x < y, x = 1, y = 2\n",
      "Outcome:\n",
      "1\n",
      "Case 2, x > y, x = 3, y = 2\n",
      "Outcome:\n",
      "2\n",
      "Case 3, x = y, x = y = 2\n",
      "Outcome:\n",
      "4\n"
     ]
    }
   ],
   "source": [
    "def code_snippets1 (x,y):\n",
    "    \n",
    "    if x < y:\n",
    "        print(x)\n",
    "    elif x > y:\n",
    "        print (y)\n",
    "    else:\n",
    "        print(x + y)\n",
    "        \n",
    "print(\"Case 1, x < y, x = 1, y = 2\")\n",
    "x = 1\n",
    "y = 2\n",
    "print(\"Outcome:\")\n",
    "code_snippets1(x,y)\n",
    "print(\"Case 2, x > y, x = 3, y = 2\")\n",
    "x = 3\n",
    "y = 2\n",
    "print(\"Outcome:\")\n",
    "code_snippets1(x,y)\n",
    "print(\"Case 3, x = y, x = y = 2\")\n",
    "x = 2\n",
    "y = 2\n",
    "print(\"Outcome:\")\n",
    "code_snippets1(x,y)"
   ]
  },
  {
   "cell_type": "code",
   "execution_count": 12,
   "metadata": {},
   "outputs": [
    {
     "name": "stdout",
     "output_type": "stream",
     "text": [
      "Case 1, x < y, x = 1, y = 2\n",
      "Outcome:\n",
      "3\n",
      "Case 2, x > y, x = 3, y = 2\n",
      "Outcome:\n",
      "2\n",
      "Case 3, x = y, x = y =2\n",
      "Outcome:\n",
      "2\n"
     ]
    }
   ],
   "source": [
    "def code_snippets2 (x,y):\n",
    "    if x < y:\n",
    "        print(x + y)\n",
    "    elif x > y:\n",
    "        print(y)\n",
    "        if x==y:\n",
    "            print(x-y)\n",
    "    else:\n",
    "        print(x)\n",
    "        \n",
    "print(\"Case 1, x < y, x = 1, y = 2\")\n",
    "x = 1\n",
    "y = 2\n",
    "print(\"Outcome:\")\n",
    "code_snippets2(x,y)\n",
    "print(\"Case 2, x > y, x = 3, y = 2\")\n",
    "x = 3\n",
    "y = 2\n",
    "print(\"Outcome:\")\n",
    "code_snippets2(x,y)\n",
    "print(\"Case 3, x = y, x = y =2\")\n",
    "x = 2\n",
    "y = 2\n",
    "print(\"Outcome:\")\n",
    "code_snippets2(x,y)"
   ]
  },
  {
   "cell_type": "markdown",
   "metadata": {},
   "source": [
    "## Question 5"
   ]
  },
  {
   "cell_type": "code",
   "execution_count": 16,
   "metadata": {},
   "outputs": [
    {
     "name": "stdin",
     "output_type": "stream",
     "text": [
      "Enter your BMI 30\n"
     ]
    },
    {
     "name": "stdout",
     "output_type": "stream",
     "text": [
      "high risk\n"
     ]
    }
   ],
   "source": [
    "def describe_bmi (bmi):\n",
    "    if bmi >= 27.5:\n",
    "        status = \"high risk\"\n",
    "    elif bmi >= 23:\n",
    "        status = \"moderate risk\"\n",
    "    elif bmi >= 18.5:\n",
    "        status = \"low risk\"\n",
    "    else:\n",
    "        status = \"nutritional deficiency\"\n",
    "    return status\n",
    "\n",
    "print(describe_bmi(float(input(\"Enter your BMI\"))))\n"
   ]
  },
  {
   "cell_type": "markdown",
   "metadata": {},
   "source": [
    "## Question 6"
   ]
  },
  {
   "cell_type": "code",
   "execution_count": 7,
   "metadata": {},
   "outputs": [
    {
     "name": "stdout",
     "output_type": "stream",
     "text": [
      "None\n"
     ]
    }
   ],
   "source": [
    "def letter_grade (mark):\n",
    "    if  mark > 100 or mark < 0:\n",
    "        return None\n",
    "    elif mark >= 90:\n",
    "        return \"A\"\n",
    "    elif mark >= 80:\n",
    "        return \"B\"\n",
    "    elif mark >= 70:\n",
    "        return \"C\"\n",
    "    elif mark >= 60:\n",
    "        return \"D\"\n",
    "    else:\n",
    "        return \"E\"\n",
    "\n",
    "\n",
    "print(letter_grade(-2))"
   ]
  },
  {
   "cell_type": "markdown",
   "metadata": {},
   "source": [
    "## Question 7"
   ]
  },
  {
   "cell_type": "code",
   "execution_count": 1,
   "metadata": {},
   "outputs": [
    {
     "name": "stdout",
     "output_type": "stream",
     "text": [
      "True\n"
     ]
    }
   ],
   "source": [
    "class Coordinate:\n",
    "    x = 0.0\n",
    "    y = 0.0\n",
    "    \n",
    "def is_in_square (center1,side1,center2,side2):\n",
    "    #calculate distance between centers\n",
    "    dist_x = abs(center2.x - center1.x)\n",
    "    dist_y = abs(center2.y - center1.y)\n",
    "    \n",
    "    min_dist = (side1/2) + (side2/2)\n",
    "    \n",
    "    if dist_x <= min_dist or dist_y <= min_dist:\n",
    "        return True\n",
    "    else:\n",
    "        return False\n",
    "    \n",
    "s1 = Coordinate ()\n",
    "(s1.x,s1.y) = (10 , 10)\n",
    "s2 = Coordinate ()\n",
    "(s2.x,s2.y) = (20,10)\n",
    "print(is_in_square (s1,5,s2,4))"
   ]
  },
  {
   "cell_type": "markdown",
   "metadata": {},
   "source": [
    "# Homework"
   ]
  },
  {
   "cell_type": "markdown",
   "metadata": {},
   "source": [
    "## Problem 1"
   ]
  },
  {
   "cell_type": "code",
   "execution_count": 11,
   "metadata": {},
   "outputs": [
    {
     "name": "stdout",
     "output_type": "stream",
     "text": [
      "100.0\n"
     ]
    }
   ],
   "source": [
    "def fahrenheit_to_celsius (temp_f):\n",
    "    temp_c = round((temp_f - 32)*(5/9),1)\n",
    "    return temp_c\n",
    "\n",
    "print(fahrenheit_to_celsius(212))\n",
    "    "
   ]
  },
  {
   "cell_type": "markdown",
   "metadata": {},
   "source": [
    "## Problem 2"
   ]
  },
  {
   "cell_type": "code",
   "execution_count": null,
   "metadata": {},
   "outputs": [],
   "source": [
    "def celsius_to_fahrenheit(temp_c):\n",
    "    temp_f = round((temp_c*(9/5))+32,1)\n",
    "    return temp_f\n"
   ]
  },
  {
   "cell_type": "markdown",
   "metadata": {},
   "source": [
    "## Problem 3"
   ]
  },
  {
   "cell_type": "code",
   "execution_count": 32,
   "metadata": {},
   "outputs": [
    {
     "name": "stdout",
     "output_type": "stream",
     "text": [
      "(2827.43, 127234.5)\n"
     ]
    }
   ],
   "source": [
    "import math\n",
    "def area_vol_cylinder(radius,length):\n",
    "    area = (radius**2)*math.pi\n",
    "    volume  = area * length\n",
    "    return (round(area,2),round(volume,2))\n",
    "\n",
    "\n",
    "print (area_vol_cylinder(30.0,45.0))"
   ]
  },
  {
   "cell_type": "markdown",
   "metadata": {},
   "source": [
    "## Problem 4"
   ]
  },
  {
   "cell_type": "code",
   "execution_count": 34,
   "metadata": {},
   "outputs": [
    {
     "name": "stdin",
     "output_type": "stream",
     "text": [
      "Outside temperature in Fahrenheit 5.3\n",
      "Wind speed in miles per hour 6\n"
     ]
    },
    {
     "name": "stdout",
     "output_type": "stream",
     "text": [
      "-5.567068455881625\n"
     ]
    }
   ],
   "source": [
    "def wind_chill_temp(temp_f,wind_speed):\n",
    "    twc = 35.74 + 0.6215*temp_f - 35.75*wind_speed**0.16 + 0.4275*temp_f*wind_speed**0.16\n",
    "    return twc\n",
    "print(wind_chill_temp(float(input(\"Outside temperature in Fahrenheit\")),float(input(\"Wind speed in miles per hour\"))))\n"
   ]
  },
  {
   "cell_type": "markdown",
   "metadata": {},
   "source": [
    "## Problem 5"
   ]
  },
  {
   "cell_type": "code",
   "execution_count": 46,
   "metadata": {},
   "outputs": [
    {
     "name": "stdout",
     "output_type": "stream",
     "text": [
      "(1902, 214)\n"
     ]
    }
   ],
   "source": [
    "def minutes_to_years_days(mins):\n",
    "    years = int(mins/525600)\n",
    "    days = int((mins % 525600)/1440)\n",
    "    return (years,days)\n",
    "\n",
    "print(minutes_to_years_days(1000000000))"
   ]
  },
  {
   "cell_type": "markdown",
   "metadata": {},
   "source": [
    "## Problem 6"
   ]
  },
  {
   "cell_type": "code",
   "execution_count": 14,
   "metadata": {},
   "outputs": [
    {
     "name": "stdin",
     "output_type": "stream",
     "text": [
      "Enter investment amount 1000\n",
      "Enter annual interest rate 4.25\n",
      "Enter number of years 1\n"
     ]
    },
    {
     "name": "stdout",
     "output_type": "stream",
     "text": [
      "Accumulated value is 1043.34\n"
     ]
    }
   ],
   "source": [
    " def investment_val(amt,int_rate,years):\n",
    "    ftinval = amt*(1+(int_rate/1200))**(years*12)\n",
    "    return ftinval\n",
    "\n",
    "print(\"Accumulated value is {0:.2f}\".format(investment_val(float(input(\"Enter investment amount\")),float(input(\"Enter annual interest rate\")),float(input(\"Enter number of years\")))))"
   ]
  },
  {
   "cell_type": "markdown",
   "metadata": {},
   "source": [
    "## Problem 7"
   ]
  },
  {
   "cell_type": "code",
   "execution_count": 16,
   "metadata": {},
   "outputs": [
    {
     "name": "stdout",
     "output_type": "stream",
     "text": [
      "True\n"
     ]
    }
   ],
   "source": [
    "def is_larger (n1,n2):\n",
    "    return n1 > n2\n",
    "\n",
    "print(is_larger(2,-1))"
   ]
  },
  {
   "cell_type": "markdown",
   "metadata": {},
   "source": [
    "## Problem 8"
   ]
  },
  {
   "cell_type": "code",
   "execution_count": 17,
   "metadata": {},
   "outputs": [
    {
     "name": "stdout",
     "output_type": "stream",
     "text": [
      "True\n"
     ]
    }
   ],
   "source": [
    "def check_value (n1,n2,n3,x):\n",
    "    return x > n1 and x > n2 and x < n3\n",
    "\n",
    "print(check_value(1,4,8,7))"
   ]
  },
  {
   "cell_type": "code",
   "execution_count": null,
   "metadata": {},
   "outputs": [],
   "source": []
  }
 ],
 "metadata": {
  "kernelspec": {
   "display_name": "Python 3",
   "language": "python",
   "name": "python3"
  },
  "language_info": {
   "codemirror_mode": {
    "name": "ipython",
    "version": 3
   },
   "file_extension": ".py",
   "mimetype": "text/x-python",
   "name": "python",
   "nbconvert_exporter": "python",
   "pygments_lexer": "ipython3",
   "version": "3.6.9"
  }
 },
 "nbformat": 4,
 "nbformat_minor": 4
}
