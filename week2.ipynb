{
 "cells": [
  {
   "cell_type": "markdown",
   "metadata": {},
   "source": [
    "# 10.009 Digital World Week 2"
   ]
  },
  {
   "cell_type": "markdown",
   "metadata": {},
   "source": [
    "## Problem 1"
   ]
  },
  {
   "cell_type": "code",
   "execution_count": 11,
   "metadata": {},
   "outputs": [
    {
     "name": "stdout",
     "output_type": "stream",
     "text": [
      "(-440.5, -93.1)\n",
      "(0.0, 5.0)\n",
      "(-122.62, -49.05)\n"
     ]
    }
   ],
   "source": [
    "def position_velocity(v0,t):\n",
    "    g = 9.81\n",
    "    y = round(v0*t - 0.5*g*t**2,2)\n",
    "    yprime = round(v0 - g*t,2)\n",
    "    return((y,yprime))\n",
    "\n",
    "print(position_velocity(5.0,10.0))\n",
    "print(position_velocity(5.0,0.0))\n",
    "print(position_velocity(0.0,5.0))"
   ]
  },
  {
   "cell_type": "markdown",
   "metadata": {},
   "source": [
    "## Problem 2"
   ]
  },
  {
   "cell_type": "code",
   "execution_count": 20,
   "metadata": {},
   "outputs": [
    {
     "name": "stdin",
     "output_type": "stream",
     "text": [
      "What is your weight? (In kilograms) 95.5\n",
      "What is your height? (In m or cm) 180\n"
     ]
    },
    {
     "name": "stdout",
     "output_type": "stream",
     "text": [
      "Your BMI is 29.5\n"
     ]
    }
   ],
   "source": [
    "def bmi(weight,height):\n",
    "    if height > 10 :\n",
    "        hgt = height/100\n",
    "    else:\n",
    "        hgt = height\n",
    "    index = round(weight/(hgt**2),1)\n",
    "    return(index)\n",
    "\n",
    "w = float(input('What is your weight? (In kilograms)'))\n",
    "h = float(input('What is your height? (In m or cm)'))\n",
    "print('Your BMI is',bmi(w,h))"
   ]
  },
  {
   "cell_type": "markdown",
   "metadata": {},
   "source": [
    "## Problem 3"
   ]
  },
  {
   "cell_type": "code",
   "execution_count": 27,
   "metadata": {},
   "outputs": [
    {
     "name": "stdout",
     "output_type": "stream",
     "text": [
      " Test Case 1 \n",
      "33.6\n",
      " Test Case 2 \n",
      "28.9\n",
      " Test Case 3 \n",
      "2.4\n",
      " Test Case 4 \n",
      "25.4\n"
     ]
    }
   ],
   "source": [
    "class Coordinate:\n",
    "    x = 0.0\n",
    "    y = 0.0\n",
    "\n",
    "def area_of_triangle(v1,v2,v3):\n",
    "    side1 = (((v1.x - v2.x)**2) + ((v1.y - v2.y)**2))**0.5\n",
    "    side2 = (((v2.x - v3.x)**2) + ((v2.y - v3.y)**2))**0.5\n",
    "    side3 = (((v3.x - v1.x)**2) + ((v3.y - v1.y)**2))**0.5\n",
    "    s = (side1 + side2 + side3)/2\n",
    "    area = (s*(s-side1)*(s-side2)*(s-side3))**0.5\n",
    "    return(area)\n",
    "\n",
    "print ( \" Test Case 1 \" )\n",
    "p1 = Coordinate ()\n",
    "p1.x =1.5\n",
    "p1.y = -3.4\n",
    "p2 = Coordinate ()\n",
    "p2.x =4.6\n",
    "p2.y =5\n",
    "p3 = Coordinate ()\n",
    "p3.x =9.5\n",
    "p3.y = -3.4\n",
    "ans = round(area_of_triangle(p1,p2,p3),1)\n",
    "print(ans)\n",
    "\n",
    "print(\" Test Case 2 \")\n",
    "p1 = Coordinate ()\n",
    "p1.x =2.0\n",
    "p1.y = -3.4\n",
    "p2 = Coordinate ()\n",
    "p2.x =4.6\n",
    "p2.y =5\n",
    "p3 = Coordinate ()\n",
    "p3.x =9.5\n",
    "p3.y = -1.4\n",
    "ans = round(area_of_triangle ( p1 , p2 , p3 ),1)\n",
    "print (ans)\n",
    "\n",
    "print (\" Test Case 3 \")\n",
    "p1 = Coordinate ()\n",
    "p1.x =1.5\n",
    "p1.y =3.4\n",
    "p2 = Coordinate ()\n",
    "p2.x =4.6\n",
    "p2.y =5\n",
    "p3 = Coordinate ()\n",
    "p3.x = -1.5\n",
    "p3.y =3.4\n",
    "ans = round(area_of_triangle ( p1 , p2 , p3 ),1)\n",
    "print (ans)\n",
    "\n",
    "print ( \" Test Case 4 \" )\n",
    "p1 = Coordinate ()\n",
    "p1.x = -1.5\n",
    "p1.y =3.4\n",
    "p2 = Coordinate ()\n",
    "p2.x =4.6\n",
    "p2.y =5\n",
    "p3 = Coordinate ()\n",
    "p3.x =4.3\n",
    "p3.y = -3.4\n",
    "ans = round(area_of_triangle ( p1 , p2 , p3 ),1)\n",
    "print (ans)"
   ]
  }
 ],
 "metadata": {
  "kernelspec": {
   "display_name": "Python 3",
   "language": "python",
   "name": "python3"
  },
  "language_info": {
   "codemirror_mode": {
    "name": "ipython",
    "version": 3
   },
   "file_extension": ".py",
   "mimetype": "text/x-python",
   "name": "python",
   "nbconvert_exporter": "python",
   "pygments_lexer": "ipython3",
   "version": "3.6.9"
  }
 },
 "nbformat": 4,
 "nbformat_minor": 4
}
