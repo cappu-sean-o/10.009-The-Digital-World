{
 "cells": [
  {
   "cell_type": "markdown",
   "metadata": {},
   "source": [
    "# 10.009 Digital World Week 1"
   ]
  },
  {
   "cell_type": "markdown",
   "metadata": {},
   "source": [
    "## Hello World Program"
   ]
  },
  {
   "cell_type": "code",
   "execution_count": 1,
   "metadata": {},
   "outputs": [
    {
     "name": "stdout",
     "output_type": "stream",
     "text": [
      "hello world\n"
     ]
    }
   ],
   "source": [
    "print(\"hello world\")"
   ]
  },
  {
   "cell_type": "markdown",
   "metadata": {},
   "source": [
    "## Storing values to variables"
   ]
  },
  {
   "cell_type": "code",
   "execution_count": 3,
   "metadata": {},
   "outputs": [
    {
     "name": "stdout",
     "output_type": "stream",
     "text": [
      "pikapikapikapikapikapikapikapikapikapikachu\n"
     ]
    }
   ],
   "source": [
    "c = 'chu'\n",
    "n = 5\n",
    "n = n + n\n",
    "print(('pika' * n) + c)"
   ]
  },
  {
   "cell_type": "markdown",
   "metadata": {},
   "source": [
    "## Problem Set 1 Question 1"
   ]
  },
  {
   "cell_type": "code",
   "execution_count": 8,
   "metadata": {},
   "outputs": [
    {
     "name": "stdout",
     "output_type": "stream",
     "text": [
      "<class 'str'>\n",
      "This is the first Week!\n",
      "<class 'int'>\n",
      "24\n",
      "<class 'float'>\n",
      "2.4\n",
      "<class 'str'>\n",
      "24\n",
      "<class 'str'>\n",
      "<class 'str'>\n",
      "<class 'str'>\n",
      "10300\n",
      "10 300\n",
      "10.3\n",
      "<class 'float'>\n"
     ]
    }
   ],
   "source": [
    "print(type(\"This is the first Week!\"))\n",
    "print(\"This is the first Week!\")\n",
    "print(type(24))\n",
    "print(24)\n",
    "print(type(2.4))\n",
    "print(2.4)\n",
    "print(type(\"24\"))\n",
    "print(\"24\")\n",
    "print(type('2.4'))\n",
    "print(type(\"\"\"2.4\"\"\"))\n",
    "print(type('''2.4'''))\n",
    "print(10300)\n",
    "print(10,300)\n",
    "print(10.300)\n",
    "print(type(10.300))"
   ]
  },
  {
   "cell_type": "markdown",
   "metadata": {},
   "source": [
    "## Problem Set 1 Question 2"
   ]
  },
  {
   "cell_type": "code",
   "execution_count": 10,
   "metadata": {},
   "outputs": [
    {
     "name": "stdout",
     "output_type": "stream",
     "text": [
      "1\n",
      "9\n",
      "-9\n",
      "9.81\n",
      "9.81\n",
      "<class 'str'>\n",
      "9\n",
      "<class 'str'>\n"
     ]
    }
   ],
   "source": [
    "print(int(1.1))\n",
    "print(int(9.81))\n",
    "print(int(-9.81))\n",
    "#print(int(\"9.81\"))\n",
    "#print(int(\"9.81m/s2\"))\n",
    "print(float(\"9.81\"))\n",
    "print(str(9.81))\n",
    "print(type(str(9.81)))\n",
    "print(str(int(9.81)))\n",
    "print(type(str(int(9.81))))"
   ]
  },
  {
   "cell_type": "markdown",
   "metadata": {},
   "source": [
    "## Problem Set 1 Question 3\n",
    "Given a python script as follows"
   ]
  },
  {
   "cell_type": "code",
   "execution_count": 4,
   "metadata": {},
   "outputs": [
    {
     "name": "stdout",
     "output_type": "stream",
     "text": [
      "What's up, Doc?\n",
      "17\n",
      "3.14\n"
     ]
    }
   ],
   "source": [
    "message = \"What's up, Doc?\"\n",
    "n = 17\n",
    "pi = 3.14159\n",
    "pi = 3.14\n",
    "\n",
    "print(message)\n",
    "print(n)\n",
    "print(pi)"
   ]
  },
  {
   "cell_type": "markdown",
   "metadata": {},
   "source": [
    "### Questions\n",
    "When the program is run for the first time the value of pi when the program counter is at\n",
    "\n",
    "1. line 2\n",
    "    + `null`\n",
    "2. line 3\n",
    "    + `null`\n",
    "3. line 4\n",
    "    + `3.14159`\n",
    "4. line 5\n",
    "    + `3.14`\n",
    "\n",
    "What is the type of...\n",
    "\n",
    "1. Variable `message`\n",
    "    + `str`\n",
    "2. Variable `n`\n",
    "    + `int`\n",
    "3. Variable `pi`\n",
    "    + `float`"
   ]
  },
  {
   "cell_type": "markdown",
   "metadata": {},
   "source": [
    "## Problem Set 1 Question 4\n",
    "Check whether the following variable names are valid\n",
    "1. `23days` - no\n",
    "2. `days23` - yes\n",
    "3. `day 23` - no\n",
    "4. `mymoney2` - yes\n",
    "5. `mymoney$` - no\n",
    "6. `myclass` - yes\n",
    "7. `class` - no\n",
    "8. `my_grade` - yes\n",
    "9. `my_grade_is_B+` - no"
   ]
  },
  {
   "cell_type": "markdown",
   "metadata": {},
   "source": [
    "## Problem Set 1 Question 5\n",
    "Custom Data Types"
   ]
  },
  {
   "cell_type": "code",
   "execution_count": 12,
   "metadata": {},
   "outputs": [
    {
     "name": "stdout",
     "output_type": "stream",
     "text": [
      "The output of print(type(p1)) is <class '__main__.Coordinate'>\n",
      "The output of print(type(p2)) is <class '__main__.Coordinate'>\n",
      "The output of print(type(Coordinate)) is <class 'type'>\n",
      "The output of print(p1.x, p1.y) is 3.2 -1.5\n",
      "THe output of print(p2.x, p2.y) is 0.3 1.0\n"
     ]
    }
   ],
   "source": [
    "class Coordinate:\n",
    "    x = 3.2\n",
    "    y = -1.5\n",
    "\n",
    "p1 = Coordinate()\n",
    "p2 = Coordinate()\n",
    "p2.x = 0.3\n",
    "p2.y = 1.0\n",
    "\n",
    "print(\"The output of print(type(p1)) is\", type(p1))\n",
    "print(\"The output of print(type(p2)) is\",type(p2))\n",
    "print(\"The output of print(type(Coordinate)) is\",type(Coordinate))\n",
    "print(\"The output of print(p1.x, p1.y) is\",p1.x, p1.y)\n",
    "print(\"THe output of print(p2.x, p2.y) is\",p2.x, p2.y)"
   ]
  },
  {
   "cell_type": "markdown",
   "metadata": {},
   "source": [
    "## Problem Set 1 Question 6"
   ]
  },
  {
   "cell_type": "code",
   "execution_count": 2,
   "metadata": {},
   "outputs": [
    {
     "name": "stdout",
     "output_type": "stream",
     "text": [
      "8\n",
      "2\n",
      "15\n",
      "125\n",
      "1.6666666666666667\n",
      "1\n",
      "1.6666666666666667\n",
      "1.6666666666666667\n",
      "2\n"
     ]
    }
   ],
   "source": [
    "print(5 + 3)\n",
    "print(5 - 3)\n",
    "print(5 * 3)\n",
    "print(5 ** 3)\n",
    "print(5 / 3)\n",
    "print(5 // 3)\n",
    "print(5 / 3.0)\n",
    "print(5.0 / 3)\n",
    "print(5 % 3)"
   ]
  },
  {
   "cell_type": "markdown",
   "metadata": {},
   "source": [
    "## Problem Set 1 Question 7\n",
    "Operator Precedence"
   ]
  },
  {
   "cell_type": "code",
   "execution_count": 3,
   "metadata": {},
   "outputs": [
    {
     "name": "stdout",
     "output_type": "stream",
     "text": [
      "13\n",
      "196608\n"
     ]
    }
   ],
   "source": [
    "print(17-3*7//4+1)\n",
    "print(2**2**4*3)"
   ]
  },
  {
   "cell_type": "markdown",
   "metadata": {},
   "source": [
    "## Problem Set 1 Question 8\n",
    "Updating variables"
   ]
  },
  {
   "cell_type": "code",
   "execution_count": 4,
   "metadata": {},
   "outputs": [
    {
     "name": "stdout",
     "output_type": "stream",
     "text": [
      "3 5\n"
     ]
    }
   ],
   "source": [
    "x = 3\n",
    "print(x, end=' ')\n",
    "x = x + 2\n",
    "print(x)"
   ]
  },
  {
   "cell_type": "code",
   "execution_count": 6,
   "metadata": {},
   "outputs": [
    {
     "name": "stdout",
     "output_type": "stream",
     "text": [
      "3 1\n"
     ]
    }
   ],
   "source": [
    "x = 3\n",
    "print(x, end=' ')\n",
    "x -= 2\n",
    "print(x)"
   ]
  },
  {
   "cell_type": "code",
   "execution_count": 7,
   "metadata": {},
   "outputs": [
    {
     "name": "stdout",
     "output_type": "stream",
     "text": [
      "3 6\n"
     ]
    }
   ],
   "source": [
    "x = 3\n",
    "print(x, end=' ')\n",
    "x *= 2\n",
    "print(x)"
   ]
  },
  {
   "cell_type": "markdown",
   "metadata": {},
   "source": [
    "## Something"
   ]
  }
 ],
 "metadata": {
  "kernelspec": {
   "display_name": "Python 3",
   "language": "python",
   "name": "python3"
  },
  "language_info": {
   "codemirror_mode": {
    "name": "ipython",
    "version": 3
   },
   "file_extension": ".py",
   "mimetype": "text/x-python",
   "name": "python",
   "nbconvert_exporter": "python",
   "pygments_lexer": "ipython3",
   "version": "3.6.9"
  }
 },
 "nbformat": 4,
 "nbformat_minor": 4
}
